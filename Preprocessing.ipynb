{
 "cells": [
  {
   "cell_type": "markdown",
   "metadata": {},
   "source": [
    "# Bachelorthesis\n",
    "## Feature Engineering\n",
    "\n",
    "Im folgenden werde ich einen Datensatz Step by Step für Machine Learning aufbereiten.<br>\n",
    "Es wird der durch die Datenbank gelieferte Datensatz als Ground Zero verwendet. Auf die Datenbeschaffung und rudimentäre aufbereitung wird nicht eingegangen.\n",
    "Ziel soll es sein durch jeden Schritt die Performance eines darauf ausetztenden Modells zu steigern.\n",
    "Die Anwendung unterscheidlicher Modelle findet in einem Zweiten Notebook statt.<br>\n",
    "Am Ende jeden Kapitels wird der Datensatz gespeichert und kann an dieser stelle auch wieder geladen werden.\n",
    "\n",
    "\n"
   ]
  },
  {
   "cell_type": "markdown",
   "metadata": {},
   "source": [
    "<h1>Table of Contents</h1>\n",
    "<div class=\"toc\">\n",
    "    <ul class=\"toc-item\">\n",
    "        <li>\n",
    "            <span>\n",
    "                <a href=\"#Bibliotheken\" data-toc-modified-id=\"Bibliotheken-1\">\n",
    "                    <span class=\"toc-item-num\">1&nbsp;&nbsp;</span>\n",
    "                        Bibliotheken\n",
    "                </a>\n",
    "            </span>\n",
    "        </li>\n",
    "        <li>\n",
    "            <span>\n",
    "                <a href=\"#DB_Connection\" data-toc-modified-id=\"DB_Connection\">\n",
    "                    <span class=\"toc-item-num\">2&nbsp;&nbsp;</span>\n",
    "                        Connection to Database.\n",
    "                </a>\n",
    "            </span>\n",
    "        </li>\n",
    "        <li>\n",
    "            <span>\n",
    "            <a href=\"#Kunde_Tarifschlüssel \" data-toc-modified-id=\"Kunde_Tarifschlüssel \">\n",
    "            <span class=\"toc-item-num\">3&nbsp;&nbsp;</span>\n",
    "            Kunde-->Tarifschlüssel \n",
    "            </a>\n",
    "            </span>\n",
    "        </li>\n",
    "        <li>\n",
    "            <span>\n",
    "            <a href=\"#Partner_WZ_Schlüssel\" data-toc-modified-id=\"Partner_WZ_Schlüssel\">\n",
    "            <span class=\"toc-item-num\">4&nbsp;&nbsp;</span>\n",
    "            Partner --> WZ-Schlüssel\n",
    "            </a>\n",
    "            </span>\n",
    "        </li>\n",
    "        <li>\n",
    "            <span>\n",
    "            <a href=\"#Ausgangsdatensatz\" data-toc-modified-id=\"Ausgangsdatensatz\">\n",
    "            <span class=\"toc-item-num\">5&nbsp;&nbsp;</span>\n",
    "                Ausgangsdatensatz\n",
    "            </a>\n",
    "            </span>\n",
    "        </li>\n",
    "        <li>\n",
    "            <span>\n",
    "            <a href=\"#One_Hot_Encodet\" data-toc-modified-id=\"One_Hot_Encodet\">\n",
    "            <span class=\"toc-item-num\">6&nbsp;&nbsp;</span>\n",
    "                One Hot Encodet Tarifschlüssel\n",
    "            </a>\n",
    "            </span>\n",
    "        </li>\n",
    "        <li>\n",
    "            <span>\n",
    "            <a href=\"#Transform_WZ_to_Vec\" data-toc-modified-id=\"Transform_WZ_to_Vec\">\n",
    "            <span class=\"toc-item-num\">7&nbsp;&nbsp;</span>\n",
    "                 Transform WZ to Vec\n",
    "            </a>\n",
    "            </span>\n",
    "        </li>\n",
    "        \n",
    "        <li>\n",
    "            <span>\n",
    "            <a href=\"#Network_Embedding_Partner\" data-toc-modified-id=\"Network_Embedding_Partner\">\n",
    "            <span class=\"toc-item-num\">7&nbsp;&nbsp;</span>\n",
    "                 Network Embedding Partner\n",
    "            </a>\n",
    "            </span>\n",
    "        </li>\n",
    "    </ul>\n",
    "</div>"
   ]
  },
  {
   "cell_type": "markdown",
   "metadata": {},
   "source": [
    "## Bibliotheken"
   ]
  },
  {
   "cell_type": "code",
   "execution_count": null,
   "metadata": {},
   "outputs": [],
   "source": [
    "#Lib to connect to database \n",
    "#import psycopg2\n",
    "#print('psycopg2 ',psycopg2.__version__)\n",
    "\n",
    "#Lib for storing and process data internally\n",
    "import pandas as pd\n",
    "print('Pandas ',pd.__version__)\n",
    "\n",
    "#lib to convert string to hash\n",
    "import hashlib\n",
    "\n",
    "#support for large, multi-dimensional arrays and matrices\n",
    "import numpy as np\n",
    "print('numpy ',np.__version__)\n",
    "\n",
    "#tool for show progress bars in \n",
    "from tqdm import tqdm \n",
    "\n",
    "#Lib for handling sparse Matrix\n",
    "import scipy \n",
    "from scipy.sparse import coo_matrix, vstack,csr_matrix,hstack,save_npz,load_npz\n",
    "print('scipy ', scipy.__version__)\n",
    "\n",
    "#Used for transforming to One Hot Vector\n",
    "import sklearn\n",
    "from sklearn.preprocessing import OneHotEncoder\n",
    "print('sklearn ',sklearn.__version__)\n",
    "\n",
    "#Lib for Handling networks\n",
    "import networkx as nx#\n",
    "print('networkx', nx.__version__)\n",
    "\n",
    "#Lib for drawing Plots and Graphs\n",
    "import matplotlib.pyplot as plt\n",
    "\n",
    "#Lib for do Network Embedding\n",
    "from node2vec import Node2Vec\n",
    "\n",
    "#Lib use for store wordvectors\n",
    "from gensim.models import KeyedVectors"
   ]
  },
  {
   "cell_type": "markdown",
   "metadata": {},
   "source": [
    "## DB_Connection\n",
    "Die Zugangsdaten werden gelöscht aber alle Daten liegen Datein am Ende jedes Kapitels im Zugriff."
   ]
  },
  {
   "cell_type": "code",
   "execution_count": 4,
   "metadata": {},
   "outputs": [
    {
     "name": "stdout",
     "output_type": "stream",
     "text": [
      "Connected to database\n"
     ]
    }
   ],
   "source": [
    "dsn_database = \"XXXX\"\n",
    "dsn_hostname = \"XXXX\"\n",
    "dsn_port = 'XXX'\n",
    "dsn_uid = \"XXXX\"\n",
    "dsn_pwd = \"XXXXX\"\n",
    "\n",
    "conn_str = \"host=\" + dsn_hostname \\\n",
    "     + \" dbname=\" + dsn_database + \" user=\" + dsn_uid + \" password=\" + dsn_pwd\n",
    "\n",
    "try:\n",
    "    conn = psycopg2.connect(conn_str)\n",
    "    print('Connected to database')\n",
    "except:\n",
    "    print('Unable to connect to database')"
   ]
  },
  {
   "cell_type": "markdown",
   "metadata": {},
   "source": [
    "### Kunde_Tarifschlüssel \n",
    "Im ersten Schritt werden die Daten aus der Datenbank geholt. Hierbei handelt es sich um den Datensatz Kunde--> Tarifschlüssel. <br>\n",
    "Ein Kunde wird durch eine partner_nr repräsentiert, die durch einen Hashwert ersetzt wird. <br>\n",
    "Zusätzlich zu den Tarifschlüssel ist die Untergruppe des WZ-Schlüssel für einen Kunden in der Spalte wz_2008_hauptcode soweit vorhanden. <br> <br>\n",
    "\n",
    "Am Ende des Abschnittes liegt der berreinigte Datensatz Kunde Tarifschlüssel vor und wird als Pickle File gespeichert"
   ]
  },
  {
   "cell_type": "code",
   "execution_count": 5,
   "metadata": {
    "collapsed": true
   },
   "outputs": [],
   "source": [
    "with conn.cursor() as cursor:\n",
    "\n",
    "            cursor.execute(\"SELECT partner_nr,lvtvkz,wkz_schl,betriebsart,wz_2008_hauptcode FROM diffusion_model.feature_set\");\n",
    "            column_names = [desc[0] for desc in cursor.description]\n",
    "\n",
    "            feature = pd.DataFrame(cursor.fetchall(),columns=column_names)\n",
    "\n",
    "feature['partner_nr'] =feature['partner_nr'].apply(lambda x: hashlib.md5(str(x).encode('utf-8')).hexdigest())  "
   ]
  },
  {
   "cell_type": "code",
   "execution_count": 6,
   "metadata": {},
   "outputs": [
    {
     "data": {
      "text/html": [
       "<div>\n",
       "<style scoped>\n",
       "    .dataframe tbody tr th:only-of-type {\n",
       "        vertical-align: middle;\n",
       "    }\n",
       "\n",
       "    .dataframe tbody tr th {\n",
       "        vertical-align: top;\n",
       "    }\n",
       "\n",
       "    .dataframe thead th {\n",
       "        text-align: right;\n",
       "    }\n",
       "</style>\n",
       "<table border=\"1\" class=\"dataframe\">\n",
       "  <thead>\n",
       "    <tr style=\"text-align: right;\">\n",
       "      <th></th>\n",
       "      <th>partner_nr</th>\n",
       "      <th>lvtvkz</th>\n",
       "      <th>wkz_schl</th>\n",
       "      <th>betriebsart</th>\n",
       "    </tr>\n",
       "  </thead>\n",
       "  <tbody>\n",
       "    <tr>\n",
       "      <th>count</th>\n",
       "      <td>639670</td>\n",
       "      <td>120677</td>\n",
       "      <td>356620</td>\n",
       "      <td>127605</td>\n",
       "    </tr>\n",
       "    <tr>\n",
       "      <th>unique</th>\n",
       "      <td>499510</td>\n",
       "      <td>159</td>\n",
       "      <td>3094</td>\n",
       "      <td>1635</td>\n",
       "    </tr>\n",
       "  </tbody>\n",
       "</table>\n",
       "</div>"
      ],
      "text/plain": [
       "       partner_nr  lvtvkz wkz_schl betriebsart\n",
       "count      639670  120677   356620      127605\n",
       "unique     499510     159     3094        1635"
      ]
     },
     "execution_count": 6,
     "metadata": {},
     "output_type": "execute_result"
    }
   ],
   "source": [
    "feature.describe(include ='all')[:2][['partner_nr', 'lvtvkz','wkz_schl','betriebsart']]"
   ]
  },
  {
   "cell_type": "code",
   "execution_count": 7,
   "metadata": {},
   "outputs": [
    {
     "name": "stdout",
     "output_type": "stream",
     "text": [
      "Anzahl Zeilen und Spalten (149980, 5)\n"
     ]
    },
    {
     "data": {
      "text/html": [
       "<div>\n",
       "<style scoped>\n",
       "    .dataframe tbody tr th:only-of-type {\n",
       "        vertical-align: middle;\n",
       "    }\n",
       "\n",
       "    .dataframe tbody tr th {\n",
       "        vertical-align: top;\n",
       "    }\n",
       "\n",
       "    .dataframe thead th {\n",
       "        text-align: right;\n",
       "    }\n",
       "</style>\n",
       "<table border=\"1\" class=\"dataframe\">\n",
       "  <thead>\n",
       "    <tr style=\"text-align: right;\">\n",
       "      <th></th>\n",
       "      <th>index</th>\n",
       "      <th>lvtvkz</th>\n",
       "      <th>wkz_schl</th>\n",
       "      <th>betriebsart</th>\n",
       "      <th>wz_2008_hauptcode</th>\n",
       "    </tr>\n",
       "    <tr>\n",
       "      <th>partner_nr</th>\n",
       "      <th></th>\n",
       "      <th></th>\n",
       "      <th></th>\n",
       "      <th></th>\n",
       "      <th></th>\n",
       "    </tr>\n",
       "  </thead>\n",
       "  <tbody>\n",
       "    <tr>\n",
       "      <th>4290392ffe7d0f59a20e5a2645b2ae1c</th>\n",
       "      <td>0</td>\n",
       "      <td>0</td>\n",
       "      <td>0</td>\n",
       "      <td>0</td>\n",
       "      <td>47250</td>\n",
       "    </tr>\n",
       "    <tr>\n",
       "      <th>ca525070f389020b42436b4ef5f51722</th>\n",
       "      <td>2</td>\n",
       "      <td>0</td>\n",
       "      <td>1533 18 3</td>\n",
       "      <td>0</td>\n",
       "      <td>43912</td>\n",
       "    </tr>\n",
       "    <tr>\n",
       "      <th>1aa0928cb4f6ef9f1dc2c55b45c7815f</th>\n",
       "      <td>7</td>\n",
       "      <td>0</td>\n",
       "      <td>6501 01 1</td>\n",
       "      <td>0</td>\n",
       "      <td>70109</td>\n",
       "    </tr>\n",
       "    <tr>\n",
       "      <th>ff63d360b81486502aa71e8310a8555b</th>\n",
       "      <td>10</td>\n",
       "      <td>0</td>\n",
       "      <td>0</td>\n",
       "      <td>Z021</td>\n",
       "      <td>32503</td>\n",
       "    </tr>\n",
       "    <tr>\n",
       "      <th>ff63d360b81486502aa71e8310a8555b</th>\n",
       "      <td>11</td>\n",
       "      <td>0</td>\n",
       "      <td>1292 00 0</td>\n",
       "      <td>0</td>\n",
       "      <td>32503</td>\n",
       "    </tr>\n",
       "  </tbody>\n",
       "</table>\n",
       "</div>"
      ],
      "text/plain": [
       "                                  index lvtvkz   wkz_schl betriebsart  \\\n",
       "partner_nr                                                              \n",
       "4290392ffe7d0f59a20e5a2645b2ae1c      0      0          0           0   \n",
       "ca525070f389020b42436b4ef5f51722      2      0  1533 18 3           0   \n",
       "1aa0928cb4f6ef9f1dc2c55b45c7815f      7      0  6501 01 1           0   \n",
       "ff63d360b81486502aa71e8310a8555b     10      0          0        Z021   \n",
       "ff63d360b81486502aa71e8310a8555b     11      0  1292 00 0           0   \n",
       "\n",
       "                                 wz_2008_hauptcode  \n",
       "partner_nr                                          \n",
       "4290392ffe7d0f59a20e5a2645b2ae1c             47250  \n",
       "ca525070f389020b42436b4ef5f51722             43912  \n",
       "1aa0928cb4f6ef9f1dc2c55b45c7815f             70109  \n",
       "ff63d360b81486502aa71e8310a8555b             32503  \n",
       "ff63d360b81486502aa71e8310a8555b             32503  "
      ]
     },
     "execution_count": 7,
     "metadata": {},
     "output_type": "execute_result"
    }
   ],
   "source": [
    "#Ein Abzug Aller Partner \n",
    "feature_all = feature.copy()\n",
    "# Die Partner_Nr wird als index für das Pandas Date Frame genutzt \n",
    "feature=feature.reset_index().set_index('partner_nr')\n",
    "# Ersetzt alle Felder der Tabelle durch 0 sollten sie keine Wert haben. Dies werleichter die Verarbeitung im folgeden. \n",
    "feature = feature.fillna(0) \n",
    "# Alle Einträge ohne einen wz Schlüssel werden gelöscht weil sie im rahmen von Supervised Learning nicht benötigt werde.\n",
    "# Im Rahmen eines Semi Supervied Learning Projektes auf den Daten könnten diese grioße Menge ungenutzter information wieder relevant werden\n",
    "feature = feature[ feature.wz_2008_hauptcode !=0] \n",
    "print('Anzahl Zeilen und Spalten', feature.shape)\n",
    "feature.head(5)"
   ]
  },
  {
   "cell_type": "code",
   "execution_count": 8,
   "metadata": {},
   "outputs": [
    {
     "data": {
      "text/html": [
       "<div>\n",
       "<style scoped>\n",
       "    .dataframe tbody tr th:only-of-type {\n",
       "        vertical-align: middle;\n",
       "    }\n",
       "\n",
       "    .dataframe tbody tr th {\n",
       "        vertical-align: top;\n",
       "    }\n",
       "\n",
       "    .dataframe thead th {\n",
       "        text-align: right;\n",
       "    }\n",
       "</style>\n",
       "<table border=\"1\" class=\"dataframe\">\n",
       "  <thead>\n",
       "    <tr style=\"text-align: right;\">\n",
       "      <th></th>\n",
       "      <th>lvtvkz</th>\n",
       "      <th>wkz_schl</th>\n",
       "      <th>betriebsart</th>\n",
       "    </tr>\n",
       "    <tr>\n",
       "      <th>partner_nr</th>\n",
       "      <th></th>\n",
       "      <th></th>\n",
       "      <th></th>\n",
       "    </tr>\n",
       "  </thead>\n",
       "  <tbody>\n",
       "    <tr>\n",
       "      <th>4290392ffe7d0f59a20e5a2645b2ae1c</th>\n",
       "      <td>0</td>\n",
       "      <td>0</td>\n",
       "      <td>0</td>\n",
       "    </tr>\n",
       "    <tr>\n",
       "      <th>ca525070f389020b42436b4ef5f51722</th>\n",
       "      <td>0</td>\n",
       "      <td>1533 18 3</td>\n",
       "      <td>0</td>\n",
       "    </tr>\n",
       "    <tr>\n",
       "      <th>1aa0928cb4f6ef9f1dc2c55b45c7815f</th>\n",
       "      <td>0</td>\n",
       "      <td>6501 01 1</td>\n",
       "      <td>0</td>\n",
       "    </tr>\n",
       "    <tr>\n",
       "      <th>ff63d360b81486502aa71e8310a8555b</th>\n",
       "      <td>0</td>\n",
       "      <td>0</td>\n",
       "      <td>Z021</td>\n",
       "    </tr>\n",
       "    <tr>\n",
       "      <th>ff63d360b81486502aa71e8310a8555b</th>\n",
       "      <td>0</td>\n",
       "      <td>1292 00 0</td>\n",
       "      <td>0</td>\n",
       "    </tr>\n",
       "    <tr>\n",
       "      <th>78c9a06231f512d2f5a140900da15992</th>\n",
       "      <td>0</td>\n",
       "      <td>1281 10 1</td>\n",
       "      <td>0</td>\n",
       "    </tr>\n",
       "  </tbody>\n",
       "</table>\n",
       "</div>"
      ],
      "text/plain": [
       "                                 lvtvkz   wkz_schl betriebsart\n",
       "partner_nr                                                    \n",
       "4290392ffe7d0f59a20e5a2645b2ae1c      0          0           0\n",
       "ca525070f389020b42436b4ef5f51722      0  1533 18 3           0\n",
       "1aa0928cb4f6ef9f1dc2c55b45c7815f      0  6501 01 1           0\n",
       "ff63d360b81486502aa71e8310a8555b      0          0        Z021\n",
       "ff63d360b81486502aa71e8310a8555b      0  1292 00 0           0\n",
       "78c9a06231f512d2f5a140900da15992      0  1281 10 1           0"
      ]
     },
     "execution_count": 8,
     "metadata": {},
     "output_type": "execute_result"
    }
   ],
   "source": [
    "feature_tarif = feature[['lvtvkz','wkz_schl','betriebsart']]\n",
    "feature_tarif.head(6)"
   ]
  },
  {
   "cell_type": "code",
   "execution_count": 9,
   "metadata": {
    "collapsed": true
   },
   "outputs": [],
   "source": [
    "feature_tarif.to_pickle('data/partner_tarif.p')"
   ]
  },
  {
   "cell_type": "code",
   "execution_count": 10,
   "metadata": {
    "collapsed": true
   },
   "outputs": [],
   "source": [
    "feature_tarif=pd.read_pickle('data/partner_tarif.p')"
   ]
  },
  {
   "cell_type": "markdown",
   "metadata": {},
   "source": [
    "### Partner_WZ_Schlüssel\n",
    "In diesem Abschnitt wird einem Kunden Wirtschaftszweig aus \"Klassifikation der Wirtschaftszweige\" zugeordnet und ein erster Zielvektor erstellt."
   ]
  },
  {
   "cell_type": "markdown",
   "metadata": {},
   "source": [
    "Zuerst wird eine Tabelle geladen in der der die Systematik der Wirtschaftzweige abgelegt ist. "
   ]
  },
  {
   "cell_type": "code",
   "execution_count": 11,
   "metadata": {},
   "outputs": [
    {
     "name": "stdout",
     "output_type": "stream",
     "text": [
      "(839, 18)\n"
     ]
    },
    {
     "data": {
      "text/html": [
       "<div>\n",
       "<style scoped>\n",
       "    .dataframe tbody tr th:only-of-type {\n",
       "        vertical-align: middle;\n",
       "    }\n",
       "\n",
       "    .dataframe tbody tr th {\n",
       "        vertical-align: top;\n",
       "    }\n",
       "\n",
       "    .dataframe thead th {\n",
       "        text-align: right;\n",
       "    }\n",
       "</style>\n",
       "<table border=\"1\" class=\"dataframe\">\n",
       "  <thead>\n",
       "    <tr style=\"text-align: right;\">\n",
       "      <th></th>\n",
       "      <th>e_1</th>\n",
       "      <th>e_1_text</th>\n",
       "      <th>e_2</th>\n",
       "      <th>e_2_text</th>\n",
       "      <th>e_3</th>\n",
       "      <th>e_3_text</th>\n",
       "      <th>e_4</th>\n",
       "      <th>e_4_text</th>\n",
       "      <th>e_5</th>\n",
       "      <th>e_5_text</th>\n",
       "      <th>id_hierarchisch</th>\n",
       "      <th>id</th>\n",
       "      <th>ebene</th>\n",
       "      <th>e_2_hierarchisch</th>\n",
       "      <th>e_3_hierarchisch</th>\n",
       "      <th>e_4_hierarchisch</th>\n",
       "      <th>e_5_hierarchisch</th>\n",
       "      <th>id_text</th>\n",
       "    </tr>\n",
       "  </thead>\n",
       "  <tbody>\n",
       "    <tr>\n",
       "      <th>0</th>\n",
       "      <td>A</td>\n",
       "      <td>LAND- UND FORSTWIRTSCHAFT, FISCHEREI</td>\n",
       "      <td>01</td>\n",
       "      <td>Landwirtschaft, Jagd und damit verbundene Täti...</td>\n",
       "      <td>1</td>\n",
       "      <td>Anbau einjähriger Pflanzen</td>\n",
       "      <td>11</td>\n",
       "      <td>Anbau von Getreide (ohne Reis), Hülsenfrüchten...</td>\n",
       "      <td>0</td>\n",
       "      <td>Anbau von Getreide (ohne Reis), Hülsenfrüchten...</td>\n",
       "      <td>A.01.1.11.0</td>\n",
       "      <td>01110</td>\n",
       "      <td>5</td>\n",
       "      <td>A.01</td>\n",
       "      <td>A.01.1</td>\n",
       "      <td>A.01.1.11</td>\n",
       "      <td>A.01.1.11.0</td>\n",
       "      <td>Anbau von Getreide (ohne Reis), Hülsenfrüchten...</td>\n",
       "    </tr>\n",
       "    <tr>\n",
       "      <th>1</th>\n",
       "      <td>A</td>\n",
       "      <td>LAND- UND FORSTWIRTSCHAFT, FISCHEREI</td>\n",
       "      <td>01</td>\n",
       "      <td>Landwirtschaft, Jagd und damit verbundene Täti...</td>\n",
       "      <td>1</td>\n",
       "      <td>Anbau einjähriger Pflanzen</td>\n",
       "      <td>12</td>\n",
       "      <td>Anbau von Reis</td>\n",
       "      <td>0</td>\n",
       "      <td>Anbau von Reis</td>\n",
       "      <td>A.01.1.12.0</td>\n",
       "      <td>01120</td>\n",
       "      <td>5</td>\n",
       "      <td>A.01</td>\n",
       "      <td>A.01.1</td>\n",
       "      <td>A.01.1.12</td>\n",
       "      <td>A.01.1.12.0</td>\n",
       "      <td>Anbau von Reis</td>\n",
       "    </tr>\n",
       "    <tr>\n",
       "      <th>2</th>\n",
       "      <td>A</td>\n",
       "      <td>LAND- UND FORSTWIRTSCHAFT, FISCHEREI</td>\n",
       "      <td>01</td>\n",
       "      <td>Landwirtschaft, Jagd und damit verbundene Täti...</td>\n",
       "      <td>1</td>\n",
       "      <td>Anbau einjähriger Pflanzen</td>\n",
       "      <td>13</td>\n",
       "      <td>Anbau von Gemüse und Melonen sowie Wurzeln und...</td>\n",
       "      <td>1</td>\n",
       "      <td>Anbau von Gemüse und Melonen</td>\n",
       "      <td>A.01.1.13.1</td>\n",
       "      <td>01131</td>\n",
       "      <td>5</td>\n",
       "      <td>A.01</td>\n",
       "      <td>A.01.1</td>\n",
       "      <td>A.01.1.13</td>\n",
       "      <td>A.01.1.13.1</td>\n",
       "      <td>Anbau von Gemüse und Melonen</td>\n",
       "    </tr>\n",
       "    <tr>\n",
       "      <th>3</th>\n",
       "      <td>A</td>\n",
       "      <td>LAND- UND FORSTWIRTSCHAFT, FISCHEREI</td>\n",
       "      <td>01</td>\n",
       "      <td>Landwirtschaft, Jagd und damit verbundene Täti...</td>\n",
       "      <td>1</td>\n",
       "      <td>Anbau einjähriger Pflanzen</td>\n",
       "      <td>13</td>\n",
       "      <td>Anbau von Gemüse und Melonen sowie Wurzeln und...</td>\n",
       "      <td>2</td>\n",
       "      <td>Anbau von Kartoffeln sowie sonstigen Wurzeln u...</td>\n",
       "      <td>A.01.1.13.2</td>\n",
       "      <td>01132</td>\n",
       "      <td>5</td>\n",
       "      <td>A.01</td>\n",
       "      <td>A.01.1</td>\n",
       "      <td>A.01.1.13</td>\n",
       "      <td>A.01.1.13.2</td>\n",
       "      <td>Anbau von Kartoffeln sowie sonstigen Wurzeln u...</td>\n",
       "    </tr>\n",
       "    <tr>\n",
       "      <th>4</th>\n",
       "      <td>A</td>\n",
       "      <td>LAND- UND FORSTWIRTSCHAFT, FISCHEREI</td>\n",
       "      <td>01</td>\n",
       "      <td>Landwirtschaft, Jagd und damit verbundene Täti...</td>\n",
       "      <td>1</td>\n",
       "      <td>Anbau einjähriger Pflanzen</td>\n",
       "      <td>14</td>\n",
       "      <td>Anbau von Zuckerrohr</td>\n",
       "      <td>0</td>\n",
       "      <td>Anbau von Zuckerrohr</td>\n",
       "      <td>A.01.1.14.0</td>\n",
       "      <td>01140</td>\n",
       "      <td>5</td>\n",
       "      <td>A.01</td>\n",
       "      <td>A.01.1</td>\n",
       "      <td>A.01.1.14</td>\n",
       "      <td>A.01.1.14.0</td>\n",
       "      <td>Anbau von Zuckerrohr</td>\n",
       "    </tr>\n",
       "  </tbody>\n",
       "</table>\n",
       "</div>"
      ],
      "text/plain": [
       "  e_1                              e_1_text e_2  \\\n",
       "0   A  LAND- UND FORSTWIRTSCHAFT, FISCHEREI  01   \n",
       "1   A  LAND- UND FORSTWIRTSCHAFT, FISCHEREI  01   \n",
       "2   A  LAND- UND FORSTWIRTSCHAFT, FISCHEREI  01   \n",
       "3   A  LAND- UND FORSTWIRTSCHAFT, FISCHEREI  01   \n",
       "4   A  LAND- UND FORSTWIRTSCHAFT, FISCHEREI  01   \n",
       "\n",
       "                                            e_2_text e_3  \\\n",
       "0  Landwirtschaft, Jagd und damit verbundene Täti...   1   \n",
       "1  Landwirtschaft, Jagd und damit verbundene Täti...   1   \n",
       "2  Landwirtschaft, Jagd und damit verbundene Täti...   1   \n",
       "3  Landwirtschaft, Jagd und damit verbundene Täti...   1   \n",
       "4  Landwirtschaft, Jagd und damit verbundene Täti...   1   \n",
       "\n",
       "                     e_3_text e_4  \\\n",
       "0  Anbau einjähriger Pflanzen  11   \n",
       "1  Anbau einjähriger Pflanzen  12   \n",
       "2  Anbau einjähriger Pflanzen  13   \n",
       "3  Anbau einjähriger Pflanzen  13   \n",
       "4  Anbau einjähriger Pflanzen  14   \n",
       "\n",
       "                                            e_4_text e_5  \\\n",
       "0  Anbau von Getreide (ohne Reis), Hülsenfrüchten...   0   \n",
       "1                                     Anbau von Reis   0   \n",
       "2  Anbau von Gemüse und Melonen sowie Wurzeln und...   1   \n",
       "3  Anbau von Gemüse und Melonen sowie Wurzeln und...   2   \n",
       "4                               Anbau von Zuckerrohr   0   \n",
       "\n",
       "                                            e_5_text id_hierarchisch     id  \\\n",
       "0  Anbau von Getreide (ohne Reis), Hülsenfrüchten...     A.01.1.11.0  01110   \n",
       "1                                     Anbau von Reis     A.01.1.12.0  01120   \n",
       "2                       Anbau von Gemüse und Melonen     A.01.1.13.1  01131   \n",
       "3  Anbau von Kartoffeln sowie sonstigen Wurzeln u...     A.01.1.13.2  01132   \n",
       "4                               Anbau von Zuckerrohr     A.01.1.14.0  01140   \n",
       "\n",
       "  ebene e_2_hierarchisch e_3_hierarchisch e_4_hierarchisch e_5_hierarchisch  \\\n",
       "0     5             A.01           A.01.1        A.01.1.11      A.01.1.11.0   \n",
       "1     5             A.01           A.01.1        A.01.1.12      A.01.1.12.0   \n",
       "2     5             A.01           A.01.1        A.01.1.13      A.01.1.13.1   \n",
       "3     5             A.01           A.01.1        A.01.1.13      A.01.1.13.2   \n",
       "4     5             A.01           A.01.1        A.01.1.14      A.01.1.14.0   \n",
       "\n",
       "                                             id_text  \n",
       "0  Anbau von Getreide (ohne Reis), Hülsenfrüchten...  \n",
       "1                                     Anbau von Reis  \n",
       "2                       Anbau von Gemüse und Melonen  \n",
       "3  Anbau von Kartoffeln sowie sonstigen Wurzeln u...  \n",
       "4                               Anbau von Zuckerrohr  "
      ]
     },
     "execution_count": 11,
     "metadata": {},
     "output_type": "execute_result"
    }
   ],
   "source": [
    "with conn.cursor() as cursor:\n",
    "\n",
    "            cursor.execute(\"SELECT * FROM diffusion_model.wz_schluessel_hierarchisch\");\n",
    "            column_names = [desc[0] for desc in cursor.description]\n",
    "\n",
    "            wz_schlüssel = pd.DataFrame(cursor.fetchall(),columns=column_names)\n",
    "print(wz_schlüssel.shape)\n",
    "wz_schlüssel.head(5)"
   ]
  },
  {
   "cell_type": "code",
   "execution_count": 12,
   "metadata": {},
   "outputs": [
    {
     "data": {
      "text/html": [
       "<div>\n",
       "<style scoped>\n",
       "    .dataframe tbody tr th:only-of-type {\n",
       "        vertical-align: middle;\n",
       "    }\n",
       "\n",
       "    .dataframe tbody tr th {\n",
       "        vertical-align: top;\n",
       "    }\n",
       "\n",
       "    .dataframe thead th {\n",
       "        text-align: right;\n",
       "    }\n",
       "</style>\n",
       "<table border=\"1\" class=\"dataframe\">\n",
       "  <thead>\n",
       "    <tr style=\"text-align: right;\">\n",
       "      <th></th>\n",
       "      <th>Abschnitte</th>\n",
       "      <th>Abteilungen</th>\n",
       "      <th>Gruppen</th>\n",
       "      <th>Klassen</th>\n",
       "      <th>Unterklassen</th>\n",
       "    </tr>\n",
       "  </thead>\n",
       "  <tbody>\n",
       "    <tr>\n",
       "      <th>count</th>\n",
       "      <td>839</td>\n",
       "      <td>839</td>\n",
       "      <td>839</td>\n",
       "      <td>839</td>\n",
       "      <td>839</td>\n",
       "    </tr>\n",
       "    <tr>\n",
       "      <th>unique</th>\n",
       "      <td>21</td>\n",
       "      <td>88</td>\n",
       "      <td>272</td>\n",
       "      <td>615</td>\n",
       "      <td>839</td>\n",
       "    </tr>\n",
       "  </tbody>\n",
       "</table>\n",
       "</div>"
      ],
      "text/plain": [
       "       Abschnitte Abteilungen Gruppen Klassen Unterklassen\n",
       "count         839         839     839     839          839\n",
       "unique         21          88     272     615          839"
      ]
     },
     "execution_count": 12,
     "metadata": {},
     "output_type": "execute_result"
    }
   ],
   "source": [
    "wz_desc = wz_schlüssel.describe()[:2][['e_1','e_2_hierarchisch','e_3_hierarchisch','e_4_hierarchisch','e_5_hierarchisch']]\n",
    "wz_desc.columns =['Abschnitte', 'Abteilungen', 'Gruppen', 'Klassen','Unterklassen']\n",
    "wz_desc"
   ]
  },
  {
   "cell_type": "code",
   "execution_count": 13,
   "metadata": {
    "collapsed": true
   },
   "outputs": [],
   "source": [
    "wz_schlüssel['id'] = wz_schlüssel['id'].astype(int)\n",
    "wz_schlüssel=wz_schlüssel.set_index('id')  \n",
    "wz_hir=wz_schlüssel[['e_1','e_2_hierarchisch','e_3_hierarchisch','e_4_hierarchisch','e_5_hierarchisch']]"
   ]
  },
  {
   "cell_type": "code",
   "execution_count": 15,
   "metadata": {
    "collapsed": true
   },
   "outputs": [],
   "source": [
    "feature['wz_2008_hauptcode'] = feature['wz_2008_hauptcode'].astype(int) \n",
    "target_wz=feature.join(wz_hir,on='wz_2008_hauptcode',how='left',rsuffix ='_wz')"
   ]
  },
  {
   "cell_type": "code",
   "execution_count": 16,
   "metadata": {},
   "outputs": [
    {
     "data": {
      "text/html": [
       "<div>\n",
       "<style scoped>\n",
       "    .dataframe tbody tr th:only-of-type {\n",
       "        vertical-align: middle;\n",
       "    }\n",
       "\n",
       "    .dataframe tbody tr th {\n",
       "        vertical-align: top;\n",
       "    }\n",
       "\n",
       "    .dataframe thead th {\n",
       "        text-align: right;\n",
       "    }\n",
       "</style>\n",
       "<table border=\"1\" class=\"dataframe\">\n",
       "  <thead>\n",
       "    <tr style=\"text-align: right;\">\n",
       "      <th></th>\n",
       "      <th>partner_nr</th>\n",
       "      <th>e_1</th>\n",
       "      <th>e_2_hierarchisch</th>\n",
       "      <th>e_3_hierarchisch</th>\n",
       "      <th>e_4_hierarchisch</th>\n",
       "      <th>e_5_hierarchisch</th>\n",
       "    </tr>\n",
       "  </thead>\n",
       "  <tbody>\n",
       "    <tr>\n",
       "      <th>0</th>\n",
       "      <td>4290392ffe7d0f59a20e5a2645b2ae1c</td>\n",
       "      <td>G</td>\n",
       "      <td>G.47</td>\n",
       "      <td>G.47.2</td>\n",
       "      <td>G.47.2.25</td>\n",
       "      <td>G.47.2.25.0</td>\n",
       "    </tr>\n",
       "    <tr>\n",
       "      <th>1</th>\n",
       "      <td>ca525070f389020b42436b4ef5f51722</td>\n",
       "      <td>F</td>\n",
       "      <td>F.43</td>\n",
       "      <td>F.43.9</td>\n",
       "      <td>F.43.9.91</td>\n",
       "      <td>F.43.9.91.2</td>\n",
       "    </tr>\n",
       "    <tr>\n",
       "      <th>2</th>\n",
       "      <td>1aa0928cb4f6ef9f1dc2c55b45c7815f</td>\n",
       "      <td>M</td>\n",
       "      <td>M.70</td>\n",
       "      <td>M.70.1</td>\n",
       "      <td>M.70.1.10</td>\n",
       "      <td>M.70.1.10.9</td>\n",
       "    </tr>\n",
       "    <tr>\n",
       "      <th>3</th>\n",
       "      <td>ff63d360b81486502aa71e8310a8555b</td>\n",
       "      <td>C</td>\n",
       "      <td>C.32</td>\n",
       "      <td>C.32.5</td>\n",
       "      <td>C.32.5.50</td>\n",
       "      <td>C.32.5.50.3</td>\n",
       "    </tr>\n",
       "    <tr>\n",
       "      <th>4</th>\n",
       "      <td>ff63d360b81486502aa71e8310a8555b</td>\n",
       "      <td>C</td>\n",
       "      <td>C.32</td>\n",
       "      <td>C.32.5</td>\n",
       "      <td>C.32.5.50</td>\n",
       "      <td>C.32.5.50.3</td>\n",
       "    </tr>\n",
       "  </tbody>\n",
       "</table>\n",
       "</div>"
      ],
      "text/plain": [
       "                         partner_nr e_1 e_2_hierarchisch e_3_hierarchisch  \\\n",
       "0  4290392ffe7d0f59a20e5a2645b2ae1c   G             G.47           G.47.2   \n",
       "1  ca525070f389020b42436b4ef5f51722   F             F.43           F.43.9   \n",
       "2  1aa0928cb4f6ef9f1dc2c55b45c7815f   M             M.70           M.70.1   \n",
       "3  ff63d360b81486502aa71e8310a8555b   C             C.32           C.32.5   \n",
       "4  ff63d360b81486502aa71e8310a8555b   C             C.32           C.32.5   \n",
       "\n",
       "  e_4_hierarchisch e_5_hierarchisch  \n",
       "0        G.47.2.25      G.47.2.25.0  \n",
       "1        F.43.9.91      F.43.9.91.2  \n",
       "2        M.70.1.10      M.70.1.10.9  \n",
       "3        C.32.5.50      C.32.5.50.3  \n",
       "4        C.32.5.50      C.32.5.50.3  "
      ]
     },
     "execution_count": 16,
     "metadata": {},
     "output_type": "execute_result"
    }
   ],
   "source": [
    "target_wz=target_wz.reset_index()#.set_index('partner_nr')#['e_1','e_2_hierarchisch','e_3_hierarchisch','e_4_hierarchisch','e_5_hierarchisch']\n",
    "target_wz=target_wz[['partner_nr','e_1','e_2_hierarchisch','e_3_hierarchisch','e_4_hierarchisch','e_5_hierarchisch']]\n",
    "target_wz.head(5)"
   ]
  },
  {
   "cell_type": "code",
   "execution_count": 118,
   "metadata": {
    "scrolled": true
   },
   "outputs": [
    {
     "data": {
      "text/html": [
       "<div>\n",
       "<style scoped>\n",
       "    .dataframe tbody tr th:only-of-type {\n",
       "        vertical-align: middle;\n",
       "    }\n",
       "\n",
       "    .dataframe tbody tr th {\n",
       "        vertical-align: top;\n",
       "    }\n",
       "\n",
       "    .dataframe thead th {\n",
       "        text-align: right;\n",
       "    }\n",
       "</style>\n",
       "<table border=\"1\" class=\"dataframe\">\n",
       "  <thead>\n",
       "    <tr style=\"text-align: right;\">\n",
       "      <th></th>\n",
       "      <th>e_1</th>\n",
       "      <th>e_2_hierarchisch</th>\n",
       "      <th>e_3_hierarchisch</th>\n",
       "      <th>e_4_hierarchisch</th>\n",
       "      <th>e_5_hierarchisch</th>\n",
       "    </tr>\n",
       "  </thead>\n",
       "  <tbody>\n",
       "    <tr>\n",
       "      <th>count</th>\n",
       "      <td>149980</td>\n",
       "      <td>149980</td>\n",
       "      <td>149980</td>\n",
       "      <td>149980</td>\n",
       "      <td>149980</td>\n",
       "    </tr>\n",
       "    <tr>\n",
       "      <th>unique</th>\n",
       "      <td>20</td>\n",
       "      <td>83</td>\n",
       "      <td>248</td>\n",
       "      <td>541</td>\n",
       "      <td>713</td>\n",
       "    </tr>\n",
       "    <tr>\n",
       "      <th>top</th>\n",
       "      <td>G</td>\n",
       "      <td>F.43</td>\n",
       "      <td>F.43.9</td>\n",
       "      <td>F.43.9.91</td>\n",
       "      <td>F.43.9.91.2</td>\n",
       "    </tr>\n",
       "    <tr>\n",
       "      <th>freq</th>\n",
       "      <td>39580</td>\n",
       "      <td>36146</td>\n",
       "      <td>14428</td>\n",
       "      <td>10372</td>\n",
       "      <td>7874</td>\n",
       "    </tr>\n",
       "  </tbody>\n",
       "</table>\n",
       "</div>"
      ],
      "text/plain": [
       "           e_1 e_2_hierarchisch e_3_hierarchisch e_4_hierarchisch  \\\n",
       "count   149980           149980           149980           149980   \n",
       "unique      20               83              248              541   \n",
       "top          G             F.43           F.43.9        F.43.9.91   \n",
       "freq     39580            36146            14428            10372   \n",
       "\n",
       "       e_5_hierarchisch  \n",
       "count            149980  \n",
       "unique              713  \n",
       "top         F.43.9.91.2  \n",
       "freq               7874  "
      ]
     },
     "execution_count": 118,
     "metadata": {},
     "output_type": "execute_result"
    }
   ],
   "source": [
    "target_wz.describe()#[:2]"
   ]
  },
  {
   "cell_type": "code",
   "execution_count": 18,
   "metadata": {
    "collapsed": true
   },
   "outputs": [],
   "source": [
    "target_wz.to_pickle('data/partner_wz.p')"
   ]
  },
  {
   "cell_type": "code",
   "execution_count": 80,
   "metadata": {
    "collapsed": true
   },
   "outputs": [],
   "source": [
    "target_wz=pd.read_pickle('data/partner_wz.p')"
   ]
  },
  {
   "cell_type": "markdown",
   "metadata": {},
   "source": [
    "### Ausgangsdatensatz\n",
    "An dieser Stelle des Notebooks steht der vollständige Ausgangsadtansatz bereit und ist als Datei abgelegt."
   ]
  },
  {
   "cell_type": "code",
   "execution_count": 35,
   "metadata": {},
   "outputs": [
    {
     "data": {
      "text/html": [
       "<div>\n",
       "<style scoped>\n",
       "    .dataframe tbody tr th:only-of-type {\n",
       "        vertical-align: middle;\n",
       "    }\n",
       "\n",
       "    .dataframe tbody tr th {\n",
       "        vertical-align: top;\n",
       "    }\n",
       "\n",
       "    .dataframe thead th {\n",
       "        text-align: right;\n",
       "    }\n",
       "</style>\n",
       "<table border=\"1\" class=\"dataframe\">\n",
       "  <thead>\n",
       "    <tr style=\"text-align: right;\">\n",
       "      <th></th>\n",
       "      <th>e_1</th>\n",
       "      <th>e_2_hierarchisch</th>\n",
       "      <th>e_3_hierarchisch</th>\n",
       "      <th>e_4_hierarchisch</th>\n",
       "      <th>e_5_hierarchisch</th>\n",
       "    </tr>\n",
       "    <tr>\n",
       "      <th>partner_nr</th>\n",
       "      <th></th>\n",
       "      <th></th>\n",
       "      <th></th>\n",
       "      <th></th>\n",
       "      <th></th>\n",
       "    </tr>\n",
       "  </thead>\n",
       "  <tbody>\n",
       "    <tr>\n",
       "      <th>4290392ffe7d0f59a20e5a2645b2ae1c</th>\n",
       "      <td>G</td>\n",
       "      <td>G.47</td>\n",
       "      <td>G.47.2</td>\n",
       "      <td>G.47.2.25</td>\n",
       "      <td>G.47.2.25.0</td>\n",
       "    </tr>\n",
       "    <tr>\n",
       "      <th>ca525070f389020b42436b4ef5f51722</th>\n",
       "      <td>F</td>\n",
       "      <td>F.43</td>\n",
       "      <td>F.43.9</td>\n",
       "      <td>F.43.9.91</td>\n",
       "      <td>F.43.9.91.2</td>\n",
       "    </tr>\n",
       "    <tr>\n",
       "      <th>1aa0928cb4f6ef9f1dc2c55b45c7815f</th>\n",
       "      <td>M</td>\n",
       "      <td>M.70</td>\n",
       "      <td>M.70.1</td>\n",
       "      <td>M.70.1.10</td>\n",
       "      <td>M.70.1.10.9</td>\n",
       "    </tr>\n",
       "  </tbody>\n",
       "</table>\n",
       "</div>"
      ],
      "text/plain": [
       "                                 e_1 e_2_hierarchisch e_3_hierarchisch  \\\n",
       "partner_nr                                                               \n",
       "4290392ffe7d0f59a20e5a2645b2ae1c   G             G.47           G.47.2   \n",
       "ca525070f389020b42436b4ef5f51722   F             F.43           F.43.9   \n",
       "1aa0928cb4f6ef9f1dc2c55b45c7815f   M             M.70           M.70.1   \n",
       "\n",
       "                                 e_4_hierarchisch e_5_hierarchisch  \n",
       "partner_nr                                                          \n",
       "4290392ffe7d0f59a20e5a2645b2ae1c        G.47.2.25      G.47.2.25.0  \n",
       "ca525070f389020b42436b4ef5f51722        F.43.9.91      F.43.9.91.2  \n",
       "1aa0928cb4f6ef9f1dc2c55b45c7815f        M.70.1.10      M.70.1.10.9  "
      ]
     },
     "execution_count": 35,
     "metadata": {},
     "output_type": "execute_result"
    }
   ],
   "source": [
    "target_wz = target_wz.set_index('partner_nr')\n",
    "target_wz.head(3)"
   ]
  },
  {
   "cell_type": "code",
   "execution_count": 36,
   "metadata": {},
   "outputs": [
    {
     "data": {
      "text/html": [
       "<div>\n",
       "<style scoped>\n",
       "    .dataframe tbody tr th:only-of-type {\n",
       "        vertical-align: middle;\n",
       "    }\n",
       "\n",
       "    .dataframe tbody tr th {\n",
       "        vertical-align: top;\n",
       "    }\n",
       "\n",
       "    .dataframe thead th {\n",
       "        text-align: right;\n",
       "    }\n",
       "</style>\n",
       "<table border=\"1\" class=\"dataframe\">\n",
       "  <thead>\n",
       "    <tr style=\"text-align: right;\">\n",
       "      <th></th>\n",
       "      <th>lvtvkz</th>\n",
       "      <th>wkz_schl</th>\n",
       "      <th>betriebsart</th>\n",
       "    </tr>\n",
       "    <tr>\n",
       "      <th>partner_nr</th>\n",
       "      <th></th>\n",
       "      <th></th>\n",
       "      <th></th>\n",
       "    </tr>\n",
       "  </thead>\n",
       "  <tbody>\n",
       "    <tr>\n",
       "      <th>4290392ffe7d0f59a20e5a2645b2ae1c</th>\n",
       "      <td>0</td>\n",
       "      <td>0</td>\n",
       "      <td>0</td>\n",
       "    </tr>\n",
       "    <tr>\n",
       "      <th>ca525070f389020b42436b4ef5f51722</th>\n",
       "      <td>0</td>\n",
       "      <td>1533 18 3</td>\n",
       "      <td>0</td>\n",
       "    </tr>\n",
       "    <tr>\n",
       "      <th>1aa0928cb4f6ef9f1dc2c55b45c7815f</th>\n",
       "      <td>0</td>\n",
       "      <td>6501 01 1</td>\n",
       "      <td>0</td>\n",
       "    </tr>\n",
       "  </tbody>\n",
       "</table>\n",
       "</div>"
      ],
      "text/plain": [
       "                                 lvtvkz   wkz_schl betriebsart\n",
       "partner_nr                                                    \n",
       "4290392ffe7d0f59a20e5a2645b2ae1c      0          0           0\n",
       "ca525070f389020b42436b4ef5f51722      0  1533 18 3           0\n",
       "1aa0928cb4f6ef9f1dc2c55b45c7815f      0  6501 01 1           0"
      ]
     },
     "execution_count": 36,
     "metadata": {},
     "output_type": "execute_result"
    }
   ],
   "source": [
    "feature_tarif.head(3)"
   ]
  },
  {
   "cell_type": "code",
   "execution_count": 37,
   "metadata": {},
   "outputs": [
    {
     "data": {
      "text/plain": [
       "(149980, 3)"
      ]
     },
     "execution_count": 37,
     "metadata": {},
     "output_type": "execute_result"
    }
   ],
   "source": [
    "feature_tarif.shape"
   ]
  },
  {
   "cell_type": "code",
   "execution_count": 42,
   "metadata": {},
   "outputs": [
    {
     "data": {
      "text/html": [
       "<div>\n",
       "<style scoped>\n",
       "    .dataframe tbody tr th:only-of-type {\n",
       "        vertical-align: middle;\n",
       "    }\n",
       "\n",
       "    .dataframe tbody tr th {\n",
       "        vertical-align: top;\n",
       "    }\n",
       "\n",
       "    .dataframe thead th {\n",
       "        text-align: right;\n",
       "    }\n",
       "</style>\n",
       "<table border=\"1\" class=\"dataframe\">\n",
       "  <thead>\n",
       "    <tr style=\"text-align: right;\">\n",
       "      <th></th>\n",
       "      <th>partner_nr</th>\n",
       "      <th>lvtvkz</th>\n",
       "      <th>wkz_schl</th>\n",
       "      <th>betriebsart</th>\n",
       "      <th>e_1</th>\n",
       "      <th>e_2_hierarchisch</th>\n",
       "      <th>e_3_hierarchisch</th>\n",
       "      <th>e_4_hierarchisch</th>\n",
       "      <th>e_5_hierarchisch</th>\n",
       "    </tr>\n",
       "  </thead>\n",
       "  <tbody>\n",
       "    <tr>\n",
       "      <th>0</th>\n",
       "      <td>0000dce02bc7a4ac9d66d463772ed976</td>\n",
       "      <td>0</td>\n",
       "      <td>0</td>\n",
       "      <td>0</td>\n",
       "      <td>C</td>\n",
       "      <td>C.23</td>\n",
       "      <td>C.23.7</td>\n",
       "      <td>C.23.7.70</td>\n",
       "      <td>C.23.7.70.0</td>\n",
       "    </tr>\n",
       "    <tr>\n",
       "      <th>1</th>\n",
       "      <td>00022b6595727f590b36e008c0bf4cf5</td>\n",
       "      <td>0</td>\n",
       "      <td>0</td>\n",
       "      <td>0</td>\n",
       "      <td>K</td>\n",
       "      <td>K.66</td>\n",
       "      <td>K.66.2</td>\n",
       "      <td>K.66.2.29</td>\n",
       "      <td>K.66.2.29.0</td>\n",
       "    </tr>\n",
       "    <tr>\n",
       "      <th>2</th>\n",
       "      <td>00033ce81931041312d2772a74cb389f</td>\n",
       "      <td>0</td>\n",
       "      <td>1176 17 0</td>\n",
       "      <td>0</td>\n",
       "      <td>G</td>\n",
       "      <td>G.47</td>\n",
       "      <td>G.47.2</td>\n",
       "      <td>G.47.2.29</td>\n",
       "      <td>G.47.2.29.0</td>\n",
       "    </tr>\n",
       "  </tbody>\n",
       "</table>\n",
       "</div>"
      ],
      "text/plain": [
       "                         partner_nr lvtvkz   wkz_schl betriebsart e_1  \\\n",
       "0  0000dce02bc7a4ac9d66d463772ed976      0          0           0   C   \n",
       "1  00022b6595727f590b36e008c0bf4cf5      0          0           0   K   \n",
       "2  00033ce81931041312d2772a74cb389f      0  1176 17 0           0   G   \n",
       "\n",
       "  e_2_hierarchisch e_3_hierarchisch e_4_hierarchisch e_5_hierarchisch  \n",
       "0             C.23           C.23.7        C.23.7.70      C.23.7.70.0  \n",
       "1             K.66           K.66.2        K.66.2.29      K.66.2.29.0  \n",
       "2             G.47           G.47.2        G.47.2.29      G.47.2.29.0  "
      ]
     },
     "execution_count": 42,
     "metadata": {},
     "output_type": "execute_result"
    }
   ],
   "source": [
    "feature_target_one= feature_tarif.join(target_wz).reset_index()\n",
    "feature_target_one.head(3)"
   ]
  },
  {
   "cell_type": "code",
   "execution_count": 43,
   "metadata": {
    "collapsed": true
   },
   "outputs": [],
   "source": [
    "for col in feature_target_one.columns:\n",
    "    feature_target_one[col] = feature_target_one[col].astype(str)"
   ]
  },
  {
   "cell_type": "markdown",
   "metadata": {},
   "source": [
    "Zur beschleunigung der Folgenden Entwicklungsschritte wird nur ein Teil der Daten verarbeit. Nach Abgeschlossener Entwicklung werden alle Daten Verarbeitet. "
   ]
  },
  {
   "cell_type": "code",
   "execution_count": 44,
   "metadata": {
    "collapsed": true
   },
   "outputs": [],
   "source": [
    "#feature_target_one = feature_target_one.sample(3000)"
   ]
  },
  {
   "cell_type": "markdown",
   "metadata": {},
   "source": [
    "## One_Hot_Encodet\n",
    "In diesem Kapitel werden die Tarifschlüssel als One Hot Encodet Vaktoren codiert.\n",
    "Jedem Kunden werden mehrere Tarifschlüssel. Unter anderem können auch mehrere Schlüssel pro Schlüssel Type einem Kunden zugeordnet werden. Um dieses Abbilden zu können werden die Daten in One Hot Vektoren abgebildet."
   ]
  },
  {
   "cell_type": "code",
   "execution_count": 45,
   "metadata": {},
   "outputs": [
    {
     "name": "stderr",
     "output_type": "stream",
     "text": [
      "100%|██████████| 95620/95620 [3:31:07<00:00,  7.66it/s]  \n"
     ]
    },
    {
     "data": {
      "text/plain": [
       "<95620x333602 sparse matrix of type '<class 'numpy.int64'>'\n",
       "\twith 333602 stored elements in COOrdinate format>"
      ]
     },
     "execution_count": 45,
     "metadata": {},
     "output_type": "execute_result"
    }
   ],
   "source": [
    "#Zu beginn werden die Kunden in eine Matrix sortiert in der jede Zeile einem Kunden repräsentiert.Jede Spalte korrespondiert\n",
    "#mit der entsprechenden Zeile in der Feature bzw. Target Matrix. In einer Zeile steht an jeder Stelle die einem Partner zugerrechnet wird eine eins in anderen 0.\n",
    "#Durch muliplikation mit der Feature Matrix werden alle Einträge eines Kunden summiert. \n",
    "# Ein visuelles Beispiel findet sich in der \n",
    "f = []\n",
    "for uniqu_id in tqdm(set(feature_target_one['partner_nr'])):\n",
    "    f.append(coo_matrix(feature_target_one['partner_nr'].apply(lambda x: 1 if x ==uniqu_id else 0).values.reshape(1,-1)))\n",
    "partner=vstack(f)\n",
    "save_npz('data/partnet_groupMatrix.npz', partner)\n",
    "partner\n",
    "#csr Matrix"
   ]
  },
  {
   "cell_type": "code",
   "execution_count": 46,
   "metadata": {
    "collapsed": true
   },
   "outputs": [],
   "source": [
    "partner = load_npz('data/partnet_groupMatrix.npz')"
   ]
  },
  {
   "cell_type": "code",
   "execution_count": 47,
   "metadata": {
    "collapsed": true
   },
   "outputs": [],
   "source": [
    "enc = OneHotEncoder(dtype=int)"
   ]
  },
  {
   "cell_type": "code",
   "execution_count": 48,
   "metadata": {},
   "outputs": [
    {
     "data": {
      "text/plain": [
       "<333602x3878 sparse matrix of type '<class 'numpy.int32'>'\n",
       "\twith 1000806 stored elements in Compressed Sparse Row format>"
      ]
     },
     "execution_count": 48,
     "metadata": {},
     "output_type": "execute_result"
    }
   ],
   "source": [
    "feature_OneHot=enc.fit_transform(feature_target_one[['lvtvkz','wkz_schl','betriebsart']])\n",
    "feature_OneHot"
   ]
  },
  {
   "cell_type": "code",
   "execution_count": 49,
   "metadata": {},
   "outputs": [
    {
     "data": {
      "text/plain": [
       "<95620x3878 sparse matrix of type '<class 'numpy.int32'>'\n",
       "\twith 368071 stored elements in Compressed Sparse Row format>"
      ]
     },
     "execution_count": 49,
     "metadata": {},
     "output_type": "execute_result"
    }
   ],
   "source": [
    "#Selektion und summierung von Zeilen die dem Selben Partner zugerrechnet werden\n",
    "features_OneHot=partner*feature_OneHot\n",
    "#Bei der Gruppierung können Summen größer 1 entsehen diese werden wieder auf 1 reduziert. Da ein kunde nur eine Ausprägung von einem Tarifschlüssl haben kann.\n",
    "features_OneHot.data = np.array([int(x/x) if x>0 else int(0) for x in features_OneHot.data ]).astype('int') # auf Wertebereich [0,1] gesetzt\n",
    "features_OneHot"
   ]
  },
  {
   "cell_type": "code",
   "execution_count": 50,
   "metadata": {},
   "outputs": [
    {
     "data": {
      "text/html": [
       "<div>\n",
       "<style scoped>\n",
       "    .dataframe tbody tr th:only-of-type {\n",
       "        vertical-align: middle;\n",
       "    }\n",
       "\n",
       "    .dataframe tbody tr th {\n",
       "        vertical-align: top;\n",
       "    }\n",
       "\n",
       "    .dataframe thead th {\n",
       "        text-align: right;\n",
       "    }\n",
       "</style>\n",
       "<table border=\"1\" class=\"dataframe\">\n",
       "  <thead>\n",
       "    <tr style=\"text-align: right;\">\n",
       "      <th></th>\n",
       "      <th>partner_nr</th>\n",
       "      <th>lvtvkz</th>\n",
       "      <th>wkz_schl</th>\n",
       "      <th>betriebsart</th>\n",
       "      <th>e_1</th>\n",
       "      <th>e_2_hierarchisch</th>\n",
       "      <th>e_3_hierarchisch</th>\n",
       "      <th>e_4_hierarchisch</th>\n",
       "      <th>e_5_hierarchisch</th>\n",
       "    </tr>\n",
       "  </thead>\n",
       "  <tbody>\n",
       "    <tr>\n",
       "      <th>0</th>\n",
       "      <td>0000dce02bc7a4ac9d66d463772ed976</td>\n",
       "      <td>0</td>\n",
       "      <td>0</td>\n",
       "      <td>0</td>\n",
       "      <td>C</td>\n",
       "      <td>C.23</td>\n",
       "      <td>C.23.7</td>\n",
       "      <td>C.23.7.70</td>\n",
       "      <td>C.23.7.70.0</td>\n",
       "    </tr>\n",
       "    <tr>\n",
       "      <th>1</th>\n",
       "      <td>00022b6595727f590b36e008c0bf4cf5</td>\n",
       "      <td>0</td>\n",
       "      <td>0</td>\n",
       "      <td>0</td>\n",
       "      <td>K</td>\n",
       "      <td>K.66</td>\n",
       "      <td>K.66.2</td>\n",
       "      <td>K.66.2.29</td>\n",
       "      <td>K.66.2.29.0</td>\n",
       "    </tr>\n",
       "    <tr>\n",
       "      <th>2</th>\n",
       "      <td>00033ce81931041312d2772a74cb389f</td>\n",
       "      <td>0</td>\n",
       "      <td>1176 17 0</td>\n",
       "      <td>0</td>\n",
       "      <td>G</td>\n",
       "      <td>G.47</td>\n",
       "      <td>G.47.2</td>\n",
       "      <td>G.47.2.29</td>\n",
       "      <td>G.47.2.29.0</td>\n",
       "    </tr>\n",
       "    <tr>\n",
       "      <th>3</th>\n",
       "      <td>00033ce81931041312d2772a74cb389f</td>\n",
       "      <td>0</td>\n",
       "      <td>1176 17 0</td>\n",
       "      <td>0</td>\n",
       "      <td>G</td>\n",
       "      <td>G.47</td>\n",
       "      <td>G.47.2</td>\n",
       "      <td>G.47.2.29</td>\n",
       "      <td>G.47.2.29.0</td>\n",
       "    </tr>\n",
       "    <tr>\n",
       "      <th>4</th>\n",
       "      <td>00033ce81931041312d2772a74cb389f</td>\n",
       "      <td>0</td>\n",
       "      <td>0</td>\n",
       "      <td>B116</td>\n",
       "      <td>G</td>\n",
       "      <td>G.47</td>\n",
       "      <td>G.47.2</td>\n",
       "      <td>G.47.2.29</td>\n",
       "      <td>G.47.2.29.0</td>\n",
       "    </tr>\n",
       "  </tbody>\n",
       "</table>\n",
       "</div>"
      ],
      "text/plain": [
       "                         partner_nr lvtvkz   wkz_schl betriebsart e_1  \\\n",
       "0  0000dce02bc7a4ac9d66d463772ed976      0          0           0   C   \n",
       "1  00022b6595727f590b36e008c0bf4cf5      0          0           0   K   \n",
       "2  00033ce81931041312d2772a74cb389f      0  1176 17 0           0   G   \n",
       "3  00033ce81931041312d2772a74cb389f      0  1176 17 0           0   G   \n",
       "4  00033ce81931041312d2772a74cb389f      0          0        B116   G   \n",
       "\n",
       "  e_2_hierarchisch e_3_hierarchisch e_4_hierarchisch e_5_hierarchisch  \n",
       "0             C.23           C.23.7        C.23.7.70      C.23.7.70.0  \n",
       "1             K.66           K.66.2        K.66.2.29      K.66.2.29.0  \n",
       "2             G.47           G.47.2        G.47.2.29      G.47.2.29.0  \n",
       "3             G.47           G.47.2        G.47.2.29      G.47.2.29.0  \n",
       "4             G.47           G.47.2        G.47.2.29      G.47.2.29.0  "
      ]
     },
     "execution_count": 50,
     "metadata": {},
     "output_type": "execute_result"
    }
   ],
   "source": [
    "feature_target_one.head()"
   ]
  },
  {
   "cell_type": "code",
   "execution_count": 51,
   "metadata": {
    "collapsed": true
   },
   "outputs": [],
   "source": [
    "target=feature_target_one.drop_duplicates('partner_nr')[['partner_nr','e_1','e_2_hierarchisch','e_3_hierarchisch','e_4_hierarchisch','e_5_hierarchisch']]"
   ]
  },
  {
   "cell_type": "code",
   "execution_count": 53,
   "metadata": {
    "collapsed": true
   },
   "outputs": [],
   "source": [
    "save_npz('data/DataOneHot/OneHotEncodetFeature.npz', features_OneHot)\n",
    "target.to_pickle('data/DataOneHot/OneHotEncodetTargets.p')"
   ]
  },
  {
   "cell_type": "code",
   "execution_count": 57,
   "metadata": {
    "collapsed": true
   },
   "outputs": [],
   "source": [
    "features_OneHot=load_npz('data/DataOneHot/OneHotEncodetFeature.npz')\n",
    "target=pd.read_pickle('data/DataOneHot/OneHotEncodetTargets.p')"
   ]
  },
  {
   "cell_type": "markdown",
   "metadata": {},
   "source": [
    "# Transform_WZ_to_Vec\n",
    "In diesem Kapitel wird der Wirtschaftszweig zu einem Latenten Vektor Überführt. Als Grundlage dafür wird die Anordnung der Wirtschaftzweige in hierarchisch Bäumen verwendet"
   ]
  },
  {
   "cell_type": "code",
   "execution_count": 72,
   "metadata": {
    "collapsed": true,
    "scrolled": true
   },
   "outputs": [],
   "source": [
    "parent_child=[]\n",
    "parent_child.append(wz_hir[['e_1','e_2_hierarchisch']])\n",
    "parent_child.append(wz_hir[['e_2_hierarchisch','e_3_hierarchisch']])\n",
    "parent_child.append(wz_hir[['e_3_hierarchisch','e_4_hierarchisch']])\n",
    "parent_child.append(wz_hir[['e_4_hierarchisch','e_5_hierarchisch']])\n",
    "for df in parent_child:\n",
    "    df.columns=['parent','child']\n",
    "\n",
    "parent_child=pd.concat(parent_child)\n",
    "parent_child=parent_child.drop_duplicates()"
   ]
  },
  {
   "cell_type": "code",
   "execution_count": 73,
   "metadata": {},
   "outputs": [
    {
     "data": {
      "text/plain": [
       "[('A', 'A.01'),\n",
       " ('A', 'A.02'),\n",
       " ('A', 'A.03'),\n",
       " ('B', 'B.05'),\n",
       " ('B', 'B.06'),\n",
       " ('B', 'B.07'),\n",
       " ('B', 'B.08'),\n",
       " ('B', 'B.09'),\n",
       " ('C', 'C.10'),\n",
       " ('C', 'C.11')]"
      ]
     },
     "execution_count": 73,
     "metadata": {},
     "output_type": "execute_result"
    }
   ],
   "source": [
    "wz_edges = [(x[0],x[1])for x in parent_child.values]\n",
    "wz_edges[:10]"
   ]
  },
  {
   "cell_type": "code",
   "execution_count": 74,
   "metadata": {
    "collapsed": true
   },
   "outputs": [],
   "source": [
    "G=nx.Graph(wz_edges)"
   ]
  },
  {
   "cell_type": "code",
   "execution_count": 75,
   "metadata": {},
   "outputs": [
    {
     "name": "stdout",
     "output_type": "stream",
     "text": [
      "Name: \n",
      "Type: Graph\n",
      "Number of nodes: 1835\n",
      "Number of edges: 1814\n",
      "Average degree:   1.9771\n"
     ]
    }
   ],
   "source": [
    "print(nx.info(G))"
   ]
  },
  {
   "cell_type": "code",
   "execution_count": 76,
   "metadata": {
    "collapsed": true
   },
   "outputs": [],
   "source": [
    "sub_wz_tree=list(nx.connected_component_subgraphs(G))"
   ]
  },
  {
   "cell_type": "code",
   "execution_count": 77,
   "metadata": {},
   "outputs": [
    {
     "name": "stdout",
     "output_type": "stream",
     "text": [
      "None\n"
     ]
    },
    {
     "data": {
      "image/png": "[encoded data removed]",
      "text/plain": [
       "<matplotlib.figure.Figure at 0x2fe5cc88>"
      ]
     },
     "metadata": {},
     "output_type": "display_data"
    }
   ],
   "source": [
    "print(nx.draw(\n",
    "    sub_wz_tree[3]\n",
    "              ,node_size =10,with_labels=False ))"
   ]
  },
  {
   "cell_type": "code",
   "execution_count": 80,
   "metadata": {
    "scrolled": true
   },
   "outputs": [
    {
     "name": "stderr",
     "output_type": "stream",
     "text": [
      "Computing transition probabilities: 100%|██████████| 1835/1835 [00:00<00:00, 26214.04it/s]\n",
      "0it [00:00, ?it/s]\n",
      "  0%|          | 0/20 [00:00<?, ?it/s]\n",
      "Generating walks (CPU: 1):   0%|          | 0/20 [00:00<?, ?it/s]\n",
      "Generating walks (CPU: 1):  10%|█         | 2/20 [00:01<00:10,  1.76it/s]\n",
      "Generating walks (CPU: 1):  15%|█▌        | 3/20 [00:02<00:12,  1.35it/s]\n",
      "Generating walks (CPU: 1):  20%|██        | 4/20 [00:03<00:13,  1.17it/s]\n",
      "Generating walks (CPU: 1):  25%|██▌       | 5/20 [00:04<00:13,  1.07it/s]\n",
      "Generating walks (CPU: 1):  30%|███       | 6/20 [00:05<00:13,  1.02it/s]\n",
      "Generating walks (CPU: 1):  35%|███▌      | 7/20 [00:06<00:13,  1.02s/it]\n",
      "Generating walks (CPU: 1):  40%|████      | 8/20 [00:07<00:12,  1.04s/it]\n",
      "Generating walks (CPU: 1):  45%|████▌     | 9/20 [00:08<00:11,  1.06s/it]\n",
      "Generating walks (CPU: 1):  50%|█████     | 10/20 [00:10<00:10,  1.07s/it]\n",
      "Generating walks (CPU: 1):  55%|█████▌    | 11/20 [00:11<00:09,  1.09s/it]\n",
      "Generating walks (CPU: 1):  60%|██████    | 12/20 [00:12<00:08,  1.10s/it]\n",
      "Generating walks (CPU: 1):  65%|██████▌   | 13/20 [00:13<00:07,  1.10s/it]\n",
      "Generating walks (CPU: 1):  70%|███████   | 14/20 [00:14<00:06,  1.10s/it]\n",
      "Generating walks (CPU: 1):  75%|███████▌  | 15/20 [00:15<00:05,  1.10s/it]\n",
      "Generating walks (CPU: 1):  80%|████████  | 16/20 [00:16<00:04,  1.10s/it]\n",
      "Generating walks (CPU: 1):  85%|████████▌ | 17/20 [00:17<00:03,  1.10s/it]\n",
      "Generating walks (CPU: 1):  90%|█████████ | 18/20 [00:18<00:02,  1.11s/it]\n",
      "Generating walks (CPU: 1):  95%|█████████▌| 19/20 [00:20<00:01,  1.11s/it]\n",
      "Generating walks (CPU: 1): 100%|██████████| 20/20 [00:21<00:00,  1.11s/it]\n",
      "1it [00:22, 22.24s/it]\n"
     ]
    }
   ],
   "source": [
    "node2vec = Node2Vec(G,dimensions=3,walk_length=20,num_walks=20,workers=1)\n",
    "model_3= node2vec.fit(window=10, iter=25)\n",
    "model_3.wv.save('emb/wz_emb3.p')"
   ]
  },
  {
   "cell_type": "code",
   "execution_count": 81,
   "metadata": {
    "scrolled": false
   },
   "outputs": [
    {
     "data": {
      "image/png": "[encoded data removed]",
      "text/plain": [
       "<matplotlib.figure.Figure at 0x35790898>"
      ]
     },
     "metadata": {},
     "output_type": "display_data"
    },
    {
     "data": {
      "image/png": "[encoded data removed]",
      "text/plain": [
       "<matplotlib.figure.Figure at 0x355f04a8>"
      ]
     },
     "metadata": {},
     "output_type": "display_data"
    }
   ],
   "source": [
    "vector_dict={}\n",
    "for word in list(G):\n",
    "    vector_dict[word] = model.wv.get_vector(word)\n",
    "vectors = list(vector_dict.values())\n",
    "\n",
    "x = []\n",
    "for v in vectors:\n",
    "    x.append(v[0])\n",
    "y = []\n",
    "for v in vectors:\n",
    "    y.append(v[1])\n",
    "\n",
    "z = []\n",
    "for v in vectors:\n",
    "    z.append(v[2])\n",
    "#print(x,y,z)\n",
    "\n",
    "\n",
    "figure_1 = plt.figure(1, figsize=(25, 20))\n",
    "\n",
    "chart_1 = figure_1.add_subplot(221)\n",
    "chart_2 = figure_1.add_subplot(222)\n",
    "chart_3 = figure_1.add_subplot(223)\n",
    "\n",
    "\n",
    "chart_1.scatter(x,y)\n",
    "chart_1.set_xlabel('X-Dim')\n",
    "chart_1.set_ylabel('Y-Dim')\n",
    "#chart_1.set_yticklabels(sorted(set(df_name['??']),reverse=True))\n",
    "\n",
    "chart_2.scatter(y, z)\n",
    "chart_2.set_xlabel('Y-Dim')\n",
    "chart_2.set_ylabel('Z-Dim')\n",
    "#chart_2.set_yticklabels(sorted(set(df_name['??']),reverse=True))\n",
    "\n",
    "chart_3.scatter(x,z)\n",
    "chart_2.set_xlabel('X-Dim')\n",
    "chart_2.set_ylabel('Z-Dim')\n",
    "#chart_3.set_yticklabels(sorted(set(df_name['??']),reverse=True))\n",
    "\n",
    "\n",
    "\n",
    "\n",
    "#plt.show()\n",
    "from mpl_toolkits.mplot3d import Axes3D\n",
    "\n",
    "fig = plt.figure(figsize=(15,15))\n",
    "ax = fig.add_subplot(111, projection='3d')\n",
    "ax.scatter(x, y, z)\n",
    "ax.set_xlabel('X-Dim')\n",
    "ax.set_ylabel('Y-Dim')\n",
    "ax.set_zlabel('Z-Dim')\n",
    "\n",
    "plt.show()\n"
   ]
  },
  {
   "cell_type": "markdown",
   "metadata": {},
   "source": [
    "### Test des Branchen Embeddings\n",
    "In diesem Teil soll gestetstet werden wie gut das Ebedding der Brache funktioniert hat. Dazu wird ein Analogie Test durchgeführt."
   ]
  },
  {
   "cell_type": "code",
   "execution_count": 257,
   "metadata": {
    "collapsed": true
   },
   "outputs": [],
   "source": [
    "df_test_similar=[]\n",
    "df_test = wz_hir[['e_1','e_2_hierarchisch']].drop_duplicates()\n",
    "for l in df_test.as_matrix():\n",
    "    df = df_test.copy()#\n",
    "    df = df[df.e_2_hierarchisch != l[1]]\n",
    "    df['e_1_test']=[l[0] for x in range(87)]\n",
    "    df['e_2_hierarchisch_test']=[l[1] for x in range(87) ]\n",
    "    df_test_similar.append(df)\n",
    "df_test=pd.concat(df_test_similar)  "
   ]
  },
  {
   "cell_type": "code",
   "execution_count": 234,
   "metadata": {
    "collapsed": true
   },
   "outputs": [],
   "source": [
    "#hänisches Einfügen von Sektion\n",
    "df_test.to_csv('Y:/Bachelorarbeit/jupyter/Notebooks_Thesis/emb/test_wz_Abschnitt-Abteilung.csv',sep =' ',header=False, index=False)"
   ]
  },
  {
   "cell_type": "code",
   "execution_count": 82,
   "metadata": {
    "scrolled": true
   },
   "outputs": [
    {
     "name": "stderr",
     "output_type": "stream",
     "text": [
      "C:\\ProgramData\\Anaconda3\\lib\\site-packages\\gensim\\matutils.py:737: FutureWarning: Conversion of the second argument of issubdtype from `int` to `np.signedinteger` is deprecated. In future, it will be treated as `np.int32 == np.dtype(int).type`.\n",
      "  if np.issubdtype(vec.dtype, np.int):\n"
     ]
    },
    {
     "data": {
      "text/plain": [
       "0.016588296760710552"
      ]
     },
     "execution_count": 82,
     "metadata": {},
     "output_type": "execute_result"
    }
   ],
   "source": [
    "res = model_3.wv.evaluate_word_analogies('Y:/Bachelorarbeit/jupyter/Notebooks_Thesis/emb/test_wz.csv')\n",
    "res[0]"
   ]
  },
  {
   "cell_type": "code",
   "execution_count": 127,
   "metadata": {},
   "outputs": [
    {
     "name": "stderr",
     "output_type": "stream",
     "text": [
      "Computing transition probabilities: 100%|██████████| 1835/1835 [00:00<00:00, 26214.22it/s]\n",
      "0it [00:00, ?it/s]\n",
      "  0%|          | 0/20 [00:00<?, ?it/s]\n",
      "Generating walks (CPU: 1):   0%|          | 0/20 [00:00<?, ?it/s]\n",
      "Generating walks (CPU: 1):  10%|█         | 2/20 [00:00<00:07,  2.47it/s]\n",
      "Generating walks (CPU: 1):  15%|█▌        | 3/20 [00:01<00:08,  1.89it/s]\n",
      "Generating walks (CPU: 1):  20%|██        | 4/20 [00:02<00:09,  1.62it/s]\n",
      "Generating walks (CPU: 1):  25%|██▌       | 5/20 [00:03<00:10,  1.50it/s]\n",
      "Generating walks (CPU: 1):  30%|███       | 6/20 [00:04<00:09,  1.41it/s]\n",
      "Generating walks (CPU: 1):  35%|███▌      | 7/20 [00:04<00:09,  1.36it/s]\n",
      "Generating walks (CPU: 1):  40%|████      | 8/20 [00:05<00:09,  1.32it/s]\n",
      "Generating walks (CPU: 1):  45%|████▌     | 9/20 [00:06<00:08,  1.28it/s]\n",
      "Generating walks (CPU: 1):  50%|█████     | 10/20 [00:07<00:07,  1.27it/s]\n",
      "Generating walks (CPU: 1):  55%|█████▌    | 11/20 [00:08<00:07,  1.26it/s]\n",
      "Generating walks (CPU: 1):  60%|██████    | 12/20 [00:08<00:06,  1.25it/s]\n",
      "Generating walks (CPU: 1):  65%|██████▌   | 13/20 [00:09<00:05,  1.25it/s]\n",
      "Generating walks (CPU: 1):  70%|███████   | 14/20 [00:10<00:04,  1.24it/s]\n",
      "Generating walks (CPU: 1):  75%|███████▌  | 15/20 [00:11<00:04,  1.24it/s]\n",
      "Generating walks (CPU: 1):  80%|████████  | 16/20 [00:12<00:03,  1.25it/s]\n",
      "Generating walks (CPU: 1):  85%|████████▌ | 17/20 [00:12<00:02,  1.24it/s]\n",
      "Generating walks (CPU: 1):  90%|█████████ | 18/20 [00:13<00:01,  1.24it/s]\n",
      "Generating walks (CPU: 1):  95%|█████████▌| 19/20 [00:14<00:00,  1.25it/s]\n",
      "Generating walks (CPU: 1): 100%|██████████| 20/20 [00:15<00:00,  1.24it/s]\n",
      "1it [00:16, 16.15s/it]\n",
      "C:\\ProgramData\\Anaconda3\\lib\\site-packages\\gensim\\matutils.py:737: FutureWarning: Conversion of the second argument of issubdtype from `int` to `np.signedinteger` is deprecated. In future, it will be treated as `np.int32 == np.dtype(int).type`.\n",
      "  if np.issubdtype(vec.dtype, np.int):\n"
     ]
    },
    {
     "data": {
      "text/plain": [
       "0.12722048066875652"
      ]
     },
     "execution_count": 127,
     "metadata": {},
     "output_type": "execute_result"
    }
   ],
   "source": [
    "node2vec = Node2Vec(G,dimensions=5,walk_length=15,num_walks=20,workers=1)\n",
    "model_5 = node2vec.fit(window=10, iter=50)\n",
    "model_5.wv.save('emb/wz_emb30.p')\n",
    "res = model_5.wv.evaluate_word_analogies('Y:/Bachelorarbeit/jupyter/Notebooks_Thesis/emb/test_wz.csv')\n",
    "res[0]"
   ]
  },
  {
   "cell_type": "code",
   "execution_count": 129,
   "metadata": {},
   "outputs": [
    {
     "name": "stderr",
     "output_type": "stream",
     "text": [
      "Computing transition probabilities: 100%|██████████| 1835/1835 [00:00<00:00, 25137.00it/s]\n",
      "0it [00:00, ?it/s]\n",
      "  0%|          | 0/20 [00:00<?, ?it/s]\n",
      "Generating walks (CPU: 1):   0%|          | 0/20 [00:00<?, ?it/s]\n",
      "Generating walks (CPU: 1):  10%|█         | 2/20 [00:00<00:08,  2.04it/s]\n",
      "Generating walks (CPU: 1):  15%|█▌        | 3/20 [00:01<00:10,  1.66it/s]\n",
      "Generating walks (CPU: 1):  20%|██        | 4/20 [00:02<00:10,  1.48it/s]\n",
      "Generating walks (CPU: 1):  25%|██▌       | 5/20 [00:03<00:11,  1.36it/s]\n",
      "Generating walks (CPU: 1):  30%|███       | 6/20 [00:04<00:10,  1.29it/s]\n",
      "Generating walks (CPU: 1):  35%|███▌      | 7/20 [00:05<00:10,  1.25it/s]\n",
      "Generating walks (CPU: 1):  40%|████      | 8/20 [00:06<00:09,  1.22it/s]\n",
      "Generating walks (CPU: 1):  45%|████▌     | 9/20 [00:07<00:09,  1.20it/s]\n",
      "Generating walks (CPU: 1):  50%|█████     | 10/20 [00:07<00:08,  1.19it/s]\n",
      "Generating walks (CPU: 1):  55%|█████▌    | 11/20 [00:08<00:07,  1.17it/s]\n",
      "Generating walks (CPU: 1):  60%|██████    | 12/20 [00:09<00:06,  1.16it/s]\n",
      "Generating walks (CPU: 1):  65%|██████▌   | 13/20 [00:10<00:06,  1.16it/s]\n",
      "Generating walks (CPU: 1):  70%|███████   | 14/20 [00:11<00:05,  1.16it/s]\n",
      "Generating walks (CPU: 1):  75%|███████▌  | 15/20 [00:12<00:04,  1.16it/s]\n",
      "Generating walks (CPU: 1):  80%|████████  | 16/20 [00:13<00:03,  1.16it/s]\n",
      "Generating walks (CPU: 1):  85%|████████▌ | 17/20 [00:13<00:02,  1.17it/s]\n",
      "Generating walks (CPU: 1):  90%|█████████ | 18/20 [00:14<00:01,  1.16it/s]\n",
      "Generating walks (CPU: 1):  95%|█████████▌| 19/20 [00:15<00:00,  1.16it/s]\n",
      "Generating walks (CPU: 1): 100%|██████████| 20/20 [00:16<00:00,  1.14it/s]\n",
      "1it [00:17, 17.47s/it]\n",
      "C:\\ProgramData\\Anaconda3\\lib\\site-packages\\gensim\\matutils.py:737: FutureWarning: Conversion of the second argument of issubdtype from `int` to `np.signedinteger` is deprecated. In future, it will be treated as `np.int32 == np.dtype(int).type`.\n",
      "  if np.issubdtype(vec.dtype, np.int):\n"
     ]
    },
    {
     "data": {
      "text/plain": [
       "0.1509926854754441"
      ]
     },
     "execution_count": 129,
     "metadata": {},
     "output_type": "execute_result"
    }
   ],
   "source": [
    "node2vec = Node2Vec(G,dimensions=10,walk_length=15,num_walks=20,workers=1)\n",
    "model_10 = node2vec.fit(window=10, iter=50)\n",
    "model_10.wv.save('emb/wz_emb30.p')\n",
    "res = model_10.wv.evaluate_word_analogies('Y:/Bachelorarbeit/jupyter/Notebooks_Thesis/emb/test_wz.csv')\n",
    "res[0]"
   ]
  },
  {
   "cell_type": "code",
   "execution_count": 120,
   "metadata": {},
   "outputs": [
    {
     "name": "stderr",
     "output_type": "stream",
     "text": [
      "Computing transition probabilities: 100%|██████████| 1835/1835 [00:00<00:00, 15818.97it/s]\n",
      "0it [00:00, ?it/s]\n",
      "  0%|          | 0/20 [00:00<?, ?it/s]\n",
      "Generating walks (CPU: 1):   0%|          | 0/20 [00:00<?, ?it/s]\n",
      "Generating walks (CPU: 1):  10%|█         | 2/20 [00:01<00:10,  1.67it/s]\n",
      "Generating walks (CPU: 1):  15%|█▌        | 3/20 [00:02<00:13,  1.31it/s]\n",
      "Generating walks (CPU: 1):  20%|██        | 4/20 [00:03<00:14,  1.12it/s]\n",
      "Generating walks (CPU: 1):  25%|██▌       | 5/20 [00:04<00:14,  1.01it/s]\n",
      "Generating walks (CPU: 1):  30%|███       | 6/20 [00:05<00:14,  1.03s/it]\n",
      "Generating walks (CPU: 1):  35%|███▌      | 7/20 [00:06<00:13,  1.05s/it]\n",
      "Generating walks (CPU: 1):  40%|████      | 8/20 [00:08<00:12,  1.07s/it]\n",
      "Generating walks (CPU: 1):  45%|████▌     | 9/20 [00:09<00:12,  1.10s/it]\n",
      "Generating walks (CPU: 1):  50%|█████     | 10/20 [00:10<00:11,  1.11s/it]\n",
      "Generating walks (CPU: 1):  55%|█████▌    | 11/20 [00:11<00:10,  1.12s/it]\n",
      "Generating walks (CPU: 1):  60%|██████    | 12/20 [00:12<00:08,  1.12s/it]\n",
      "Generating walks (CPU: 1):  65%|██████▌   | 13/20 [00:13<00:07,  1.12s/it]\n",
      "Generating walks (CPU: 1):  70%|███████   | 14/20 [00:14<00:06,  1.12s/it]\n",
      "Generating walks (CPU: 1):  75%|███████▌  | 15/20 [00:16<00:05,  1.13s/it]\n",
      "Generating walks (CPU: 1):  80%|████████  | 16/20 [00:17<00:04,  1.12s/it]\n",
      "Generating walks (CPU: 1):  85%|████████▌ | 17/20 [00:18<00:03,  1.12s/it]\n",
      "Generating walks (CPU: 1):  90%|█████████ | 18/20 [00:19<00:02,  1.13s/it]\n",
      "Generating walks (CPU: 1):  95%|█████████▌| 19/20 [00:20<00:01,  1.16s/it]\n",
      "Generating walks (CPU: 1): 100%|██████████| 20/20 [00:21<00:00,  1.16s/it]\n",
      "1it [00:22, 22.95s/it]\n",
      "C:\\ProgramData\\Anaconda3\\lib\\site-packages\\gensim\\matutils.py:737: FutureWarning: Conversion of the second argument of issubdtype from `int` to `np.signedinteger` is deprecated. In future, it will be treated as `np.int32 == np.dtype(int).type`.\n",
      "  if np.issubdtype(vec.dtype, np.int):\n"
     ]
    },
    {
     "data": {
      "text/plain": [
       "0.09077847439916406"
      ]
     },
     "execution_count": 120,
     "metadata": {},
     "output_type": "execute_result"
    }
   ],
   "source": [
    "node2vec = Node2Vec(G,dimensions=30,walk_length=15,num_walks=20,workers=1)\n",
    "model_30 = node2vec.fit(window=10, iter=50)\n",
    "model_30.wv.save('emb/wz_emb30.p')\n",
    "res = model_30.wv.evaluate_word_analogies('Y:/Bachelorarbeit/jupyter/Notebooks_Thesis/emb/test_wz.csv')\n",
    "res[0]"
   ]
  },
  {
   "cell_type": "code",
   "execution_count": 122,
   "metadata": {},
   "outputs": [
    {
     "name": "stderr",
     "output_type": "stream",
     "text": [
      "Computing transition probabilities: 100%|██████████| 1835/1835 [00:00<00:00, 16531.56it/s]\n",
      "0it [00:00, ?it/s]\n",
      "  0%|          | 0/20 [00:00<?, ?it/s]\n",
      "Generating walks (CPU: 1):   0%|          | 0/20 [00:00<?, ?it/s]\n",
      "Generating walks (CPU: 1):  10%|█         | 2/20 [00:01<00:10,  1.69it/s]\n",
      "Generating walks (CPU: 1):  15%|█▌        | 3/20 [00:02<00:13,  1.29it/s]\n",
      "Generating walks (CPU: 1):  20%|██        | 4/20 [00:03<00:14,  1.13it/s]\n",
      "Generating walks (CPU: 1):  25%|██▌       | 5/20 [00:04<00:14,  1.04it/s]\n",
      "Generating walks (CPU: 1):  30%|███       | 6/20 [00:05<00:14,  1.02s/it]\n",
      "Generating walks (CPU: 1):  35%|███▌      | 7/20 [00:06<00:13,  1.05s/it]\n",
      "Generating walks (CPU: 1):  40%|████      | 8/20 [00:08<00:12,  1.08s/it]\n",
      "Generating walks (CPU: 1):  45%|████▌     | 9/20 [00:09<00:11,  1.08s/it]\n",
      "Generating walks (CPU: 1):  50%|█████     | 10/20 [00:10<00:10,  1.09s/it]\n",
      "Generating walks (CPU: 1):  55%|█████▌    | 11/20 [00:11<00:10,  1.12s/it]\n",
      "Generating walks (CPU: 1):  60%|██████    | 12/20 [00:12<00:09,  1.19s/it]\n",
      "Generating walks (CPU: 1):  65%|██████▌   | 13/20 [00:14<00:08,  1.20s/it]\n",
      "Generating walks (CPU: 1):  70%|███████   | 14/20 [00:15<00:07,  1.22s/it]\n",
      "Generating walks (CPU: 1):  75%|███████▌  | 15/20 [00:16<00:06,  1.23s/it]\n",
      "Generating walks (CPU: 1):  80%|████████  | 16/20 [00:17<00:04,  1.23s/it]\n",
      "Generating walks (CPU: 1):  85%|████████▌ | 17/20 [00:18<00:03,  1.20s/it]\n",
      "Generating walks (CPU: 1):  90%|█████████ | 18/20 [00:20<00:02,  1.19s/it]\n",
      "Generating walks (CPU: 1):  95%|█████████▌| 19/20 [00:21<00:01,  1.20s/it]\n",
      "Generating walks (CPU: 1): 100%|██████████| 20/20 [00:22<00:00,  1.18s/it]\n",
      "1it [00:23, 23.58s/it]\n",
      "C:\\ProgramData\\Anaconda3\\lib\\site-packages\\gensim\\matutils.py:737: FutureWarning: Conversion of the second argument of issubdtype from `int` to `np.signedinteger` is deprecated. In future, it will be treated as `np.int32 == np.dtype(int).type`.\n",
      "  if np.issubdtype(vec.dtype, np.int):\n"
     ]
    },
    {
     "data": {
      "text/plain": [
       "0.07066353187042843"
      ]
     },
     "execution_count": 122,
     "metadata": {},
     "output_type": "execute_result"
    }
   ],
   "source": [
    "node2vec = Node2Vec(G,dimensions=128,walk_length=15,num_walks=20,workers=1)\n",
    "model_128 = node2vec.fit(window=10, iter=50)\n",
    "model_128.wv.save('emb/wz_emb128.p')\n",
    "res = model_128.wv.evaluate_word_analogies('Y:/Bachelorarbeit/jupyter/Notebooks_Thesis/emb/test_wz.csv')\n",
    "res[0]"
   ]
  },
  {
   "cell_type": "code",
   "execution_count": 130,
   "metadata": {},
   "outputs": [
    {
     "data": {
      "text/html": [
       "<div>\n",
       "<style scoped>\n",
       "    .dataframe tbody tr th:only-of-type {\n",
       "        vertical-align: middle;\n",
       "    }\n",
       "\n",
       "    .dataframe tbody tr th {\n",
       "        vertical-align: top;\n",
       "    }\n",
       "\n",
       "    .dataframe thead th {\n",
       "        text-align: right;\n",
       "    }\n",
       "</style>\n",
       "<table border=\"1\" class=\"dataframe\">\n",
       "  <thead>\n",
       "    <tr style=\"text-align: right;\">\n",
       "      <th></th>\n",
       "      <th>0</th>\n",
       "      <th>1</th>\n",
       "      <th>2</th>\n",
       "      <th>3</th>\n",
       "      <th>4</th>\n",
       "      <th>5</th>\n",
       "      <th>6</th>\n",
       "      <th>7</th>\n",
       "      <th>8</th>\n",
       "      <th>9</th>\n",
       "    </tr>\n",
       "  </thead>\n",
       "  <tbody>\n",
       "    <tr>\n",
       "      <th>A</th>\n",
       "      <td>-6.788249</td>\n",
       "      <td>4.047181</td>\n",
       "      <td>3.086034</td>\n",
       "      <td>-6.673488</td>\n",
       "      <td>-10.888042</td>\n",
       "      <td>1.223517</td>\n",
       "      <td>2.905775</td>\n",
       "      <td>5.390987</td>\n",
       "      <td>-4.569266</td>\n",
       "      <td>0.737593</td>\n",
       "    </tr>\n",
       "    <tr>\n",
       "      <th>A.01</th>\n",
       "      <td>-7.301380</td>\n",
       "      <td>7.653089</td>\n",
       "      <td>5.008636</td>\n",
       "      <td>-5.504945</td>\n",
       "      <td>-8.816540</td>\n",
       "      <td>1.898328</td>\n",
       "      <td>-1.392737</td>\n",
       "      <td>12.442822</td>\n",
       "      <td>-11.263078</td>\n",
       "      <td>0.064474</td>\n",
       "    </tr>\n",
       "    <tr>\n",
       "      <th>A.02</th>\n",
       "      <td>-5.347321</td>\n",
       "      <td>4.204561</td>\n",
       "      <td>1.920521</td>\n",
       "      <td>-10.163290</td>\n",
       "      <td>-13.751764</td>\n",
       "      <td>4.978881</td>\n",
       "      <td>2.033503</td>\n",
       "      <td>7.065447</td>\n",
       "      <td>-2.577922</td>\n",
       "      <td>-0.408241</td>\n",
       "    </tr>\n",
       "    <tr>\n",
       "      <th>A.03</th>\n",
       "      <td>-8.725136</td>\n",
       "      <td>1.871469</td>\n",
       "      <td>3.122990</td>\n",
       "      <td>-5.119090</td>\n",
       "      <td>-9.373276</td>\n",
       "      <td>-1.138118</td>\n",
       "      <td>4.836218</td>\n",
       "      <td>5.536036</td>\n",
       "      <td>-3.469932</td>\n",
       "      <td>0.529978</td>\n",
       "    </tr>\n",
       "    <tr>\n",
       "      <th>B</th>\n",
       "      <td>-9.100378</td>\n",
       "      <td>-2.260548</td>\n",
       "      <td>-5.662827</td>\n",
       "      <td>3.540376</td>\n",
       "      <td>-1.522018</td>\n",
       "      <td>13.428250</td>\n",
       "      <td>-7.334806</td>\n",
       "      <td>4.876769</td>\n",
       "      <td>0.761031</td>\n",
       "      <td>6.292793</td>\n",
       "    </tr>\n",
       "  </tbody>\n",
       "</table>\n",
       "</div>"
      ],
      "text/plain": [
       "             0         1         2          3          4          5         6  \\\n",
       "A    -6.788249  4.047181  3.086034  -6.673488 -10.888042   1.223517  2.905775   \n",
       "A.01 -7.301380  7.653089  5.008636  -5.504945  -8.816540   1.898328 -1.392737   \n",
       "A.02 -5.347321  4.204561  1.920521 -10.163290 -13.751764   4.978881  2.033503   \n",
       "A.03 -8.725136  1.871469  3.122990  -5.119090  -9.373276  -1.138118  4.836218   \n",
       "B    -9.100378 -2.260548 -5.662827   3.540376  -1.522018  13.428250 -7.334806   \n",
       "\n",
       "              7          8         9  \n",
       "A      5.390987  -4.569266  0.737593  \n",
       "A.01  12.442822 -11.263078  0.064474  \n",
       "A.02   7.065447  -2.577922 -0.408241  \n",
       "A.03   5.536036  -3.469932  0.529978  \n",
       "B      4.876769   0.761031  6.292793  "
      ]
     },
     "execution_count": 130,
     "metadata": {},
     "output_type": "execute_result"
    }
   ],
   "source": [
    "vector_dict={}\n",
    "for word in list(G):\n",
    "    vector_dict[word] = model_10.wv.get_vector(word)\n",
    "vectors = list(vector_dict.values())\n",
    "\n",
    "wz_vec = pd.DataFrame.from_dict(vector_dict, orient='index')\n",
    "wz_vec.head(5)"
   ]
  },
  {
   "cell_type": "code",
   "execution_count": 131,
   "metadata": {
    "collapsed": true
   },
   "outputs": [],
   "source": [
    "target_vec = pd.merge(left = target,right= wz_vec,how='left' ,left_on='e_5_hierarchisch',right_index=True)"
   ]
  },
  {
   "cell_type": "code",
   "execution_count": 132,
   "metadata": {},
   "outputs": [
    {
     "data": {
      "text/html": [
       "<div>\n",
       "<style scoped>\n",
       "    .dataframe tbody tr th:only-of-type {\n",
       "        vertical-align: middle;\n",
       "    }\n",
       "\n",
       "    .dataframe tbody tr th {\n",
       "        vertical-align: top;\n",
       "    }\n",
       "\n",
       "    .dataframe thead th {\n",
       "        text-align: right;\n",
       "    }\n",
       "</style>\n",
       "<table border=\"1\" class=\"dataframe\">\n",
       "  <thead>\n",
       "    <tr style=\"text-align: right;\">\n",
       "      <th></th>\n",
       "      <th>partner_nr</th>\n",
       "      <th>e_1</th>\n",
       "      <th>e_2_hierarchisch</th>\n",
       "      <th>e_3_hierarchisch</th>\n",
       "      <th>e_4_hierarchisch</th>\n",
       "      <th>e_5_hierarchisch</th>\n",
       "      <th>0</th>\n",
       "      <th>1</th>\n",
       "      <th>2</th>\n",
       "      <th>3</th>\n",
       "      <th>4</th>\n",
       "      <th>5</th>\n",
       "      <th>6</th>\n",
       "      <th>7</th>\n",
       "      <th>8</th>\n",
       "      <th>9</th>\n",
       "    </tr>\n",
       "  </thead>\n",
       "  <tbody>\n",
       "    <tr>\n",
       "      <th>0</th>\n",
       "      <td>0000dce02bc7a4ac9d66d463772ed976</td>\n",
       "      <td>C</td>\n",
       "      <td>C.23</td>\n",
       "      <td>C.23.7</td>\n",
       "      <td>C.23.7.70</td>\n",
       "      <td>C.23.7.70.0</td>\n",
       "      <td>-2.047215</td>\n",
       "      <td>3.147736</td>\n",
       "      <td>-3.168601</td>\n",
       "      <td>-1.302471</td>\n",
       "      <td>-3.242634</td>\n",
       "      <td>1.960325</td>\n",
       "      <td>-4.466043</td>\n",
       "      <td>-3.773806</td>\n",
       "      <td>-1.478070</td>\n",
       "      <td>-4.754932</td>\n",
       "    </tr>\n",
       "    <tr>\n",
       "      <th>1</th>\n",
       "      <td>00022b6595727f590b36e008c0bf4cf5</td>\n",
       "      <td>K</td>\n",
       "      <td>K.66</td>\n",
       "      <td>K.66.2</td>\n",
       "      <td>K.66.2.29</td>\n",
       "      <td>K.66.2.29.0</td>\n",
       "      <td>6.232615</td>\n",
       "      <td>-5.526158</td>\n",
       "      <td>-1.868740</td>\n",
       "      <td>-2.887790</td>\n",
       "      <td>3.476315</td>\n",
       "      <td>1.432624</td>\n",
       "      <td>-1.746369</td>\n",
       "      <td>-0.472199</td>\n",
       "      <td>3.613726</td>\n",
       "      <td>1.472272</td>\n",
       "    </tr>\n",
       "    <tr>\n",
       "      <th>2</th>\n",
       "      <td>00033ce81931041312d2772a74cb389f</td>\n",
       "      <td>G</td>\n",
       "      <td>G.47</td>\n",
       "      <td>G.47.2</td>\n",
       "      <td>G.47.2.29</td>\n",
       "      <td>G.47.2.29.0</td>\n",
       "      <td>5.211826</td>\n",
       "      <td>0.676626</td>\n",
       "      <td>-2.047750</td>\n",
       "      <td>-2.914245</td>\n",
       "      <td>3.262323</td>\n",
       "      <td>4.296402</td>\n",
       "      <td>4.667249</td>\n",
       "      <td>-3.728387</td>\n",
       "      <td>3.136026</td>\n",
       "      <td>-2.433865</td>\n",
       "    </tr>\n",
       "  </tbody>\n",
       "</table>\n",
       "</div>"
      ],
      "text/plain": [
       "                         partner_nr e_1 e_2_hierarchisch e_3_hierarchisch  \\\n",
       "0  0000dce02bc7a4ac9d66d463772ed976   C             C.23           C.23.7   \n",
       "1  00022b6595727f590b36e008c0bf4cf5   K             K.66           K.66.2   \n",
       "2  00033ce81931041312d2772a74cb389f   G             G.47           G.47.2   \n",
       "\n",
       "  e_4_hierarchisch e_5_hierarchisch         0         1         2         3  \\\n",
       "0        C.23.7.70      C.23.7.70.0 -2.047215  3.147736 -3.168601 -1.302471   \n",
       "1        K.66.2.29      K.66.2.29.0  6.232615 -5.526158 -1.868740 -2.887790   \n",
       "2        G.47.2.29      G.47.2.29.0  5.211826  0.676626 -2.047750 -2.914245   \n",
       "\n",
       "          4         5         6         7         8         9  \n",
       "0 -3.242634  1.960325 -4.466043 -3.773806 -1.478070 -4.754932  \n",
       "1  3.476315  1.432624 -1.746369 -0.472199  3.613726  1.472272  \n",
       "2  3.262323  4.296402  4.667249 -3.728387  3.136026 -2.433865  "
      ]
     },
     "execution_count": 132,
     "metadata": {},
     "output_type": "execute_result"
    }
   ],
   "source": [
    "target_vec.head(3)"
   ]
  },
  {
   "cell_type": "code",
   "execution_count": 134,
   "metadata": {
    "collapsed": true
   },
   "outputs": [],
   "source": [
    "target_vec_matrix=target_vec[list(range(10))].as_matrix()"
   ]
  },
  {
   "cell_type": "code",
   "execution_count": 137,
   "metadata": {
    "collapsed": true
   },
   "outputs": [],
   "source": [
    "np.save('data/DataTargetLatent/target_vec_dim10.npy',target_vec_matrix)"
   ]
  },
  {
   "cell_type": "code",
   "execution_count": 136,
   "metadata": {},
   "outputs": [
    {
     "data": {
      "text/plain": [
       "(95620, 10)"
      ]
     },
     "execution_count": 136,
     "metadata": {},
     "output_type": "execute_result"
    }
   ],
   "source": [
    "target_vec_matrix.shape"
   ]
  },
  {
   "cell_type": "markdown",
   "metadata": {},
   "source": [
    "## Network_Embedding_Partner"
   ]
  },
  {
   "cell_type": "markdown",
   "metadata": {},
   "source": [
    "Auch schon stark vorverarbeitet"
   ]
  },
  {
   "cell_type": "code",
   "execution_count": 92,
   "metadata": {
    "scrolled": true
   },
   "outputs": [
    {
     "name": "stdout",
     "output_type": "stream",
     "text": [
      "(5590852, 4)\n"
     ]
    },
    {
     "data": {
      "text/html": [
       "<div>\n",
       "<style scoped>\n",
       "    .dataframe tbody tr th:only-of-type {\n",
       "        vertical-align: middle;\n",
       "    }\n",
       "\n",
       "    .dataframe tbody tr th {\n",
       "        vertical-align: top;\n",
       "    }\n",
       "\n",
       "    .dataframe thead th {\n",
       "        text-align: right;\n",
       "    }\n",
       "</style>\n",
       "<table border=\"1\" class=\"dataframe\">\n",
       "  <thead>\n",
       "    <tr style=\"text-align: right;\">\n",
       "      <th></th>\n",
       "      <th>node_s</th>\n",
       "      <th>node_r</th>\n",
       "      <th>source</th>\n",
       "      <th>type</th>\n",
       "    </tr>\n",
       "  </thead>\n",
       "  <tbody>\n",
       "    <tr>\n",
       "      <th>2270839</th>\n",
       "      <td>6474e2700e8ecd782b9d6f5f9d69474d</td>\n",
       "      <td>5540b55c6761d0445226d766eb52c16b</td>\n",
       "      <td>Beziehung</td>\n",
       "      <td>8</td>\n",
       "    </tr>\n",
       "    <tr>\n",
       "      <th>1222362</th>\n",
       "      <td>9cc47aa3cced778eec05ae420cce7d37</td>\n",
       "      <td>6e28f62f56c6583ec429dcf9152746ab</td>\n",
       "      <td>Beziehung</td>\n",
       "      <td>9</td>\n",
       "    </tr>\n",
       "    <tr>\n",
       "      <th>3921532</th>\n",
       "      <td>257941da48fe8d967d74fbefeb5e0f7e</td>\n",
       "      <td>fe0e50f4a2be32b801c18ff319099de0</td>\n",
       "      <td>BAV</td>\n",
       "      <td>15001</td>\n",
       "    </tr>\n",
       "    <tr>\n",
       "      <th>575322</th>\n",
       "      <td>9eb01a667282745580beacb1df501123</td>\n",
       "      <td>da6da2f6d5bf3213c302d55617466d0a</td>\n",
       "      <td>Vertrag</td>\n",
       "      <td>82640673</td>\n",
       "    </tr>\n",
       "    <tr>\n",
       "      <th>2223363</th>\n",
       "      <td>68725944d2a43507aba0a5e87ec6db1b</td>\n",
       "      <td>5425059e13ed3b4596aa1ab08945542d</td>\n",
       "      <td>Beziehung</td>\n",
       "      <td>9</td>\n",
       "    </tr>\n",
       "  </tbody>\n",
       "</table>\n",
       "</div>"
      ],
      "text/plain": [
       "                                   node_s                            node_r  \\\n",
       "2270839  6474e2700e8ecd782b9d6f5f9d69474d  5540b55c6761d0445226d766eb52c16b   \n",
       "1222362  9cc47aa3cced778eec05ae420cce7d37  6e28f62f56c6583ec429dcf9152746ab   \n",
       "3921532  257941da48fe8d967d74fbefeb5e0f7e  fe0e50f4a2be32b801c18ff319099de0   \n",
       "575322   9eb01a667282745580beacb1df501123  da6da2f6d5bf3213c302d55617466d0a   \n",
       "2223363  68725944d2a43507aba0a5e87ec6db1b  5425059e13ed3b4596aa1ab08945542d   \n",
       "\n",
       "            source      type  \n",
       "2270839  Beziehung         8  \n",
       "1222362  Beziehung         9  \n",
       "3921532        BAV     15001  \n",
       "575322     Vertrag  82640673  \n",
       "2223363  Beziehung         9  "
      ]
     },
     "execution_count": 92,
     "metadata": {},
     "output_type": "execute_result"
    }
   ],
   "source": [
    "with conn.cursor() as cursor:\n",
    "\n",
    "    cursor.execute(\"SELECT * FROM diffusion_model.panr_panr\");\n",
    "    column_names = [desc[0] for desc in cursor.description]\n",
    "\n",
    "    relations = pd.DataFrame(cursor.fetchall(),columns=column_names)\n",
    "print(relations.shape)\n",
    "relations=relations.rename(index=str, columns={\"panr_vn\": \"node_s\", \"panr_vp\": \"node_r\"})\n",
    "relations['node_s']=relations['node_s'].apply(lambda x: hashlib.md5(str(x).encode('utf-8')).hexdigest())\n",
    "relations['node_r']=relations['node_r'].apply(lambda x: hashlib.md5(str(x).encode('utf-8')).hexdigest())\n",
    "relations.sample(5)"
   ]
  },
  {
   "cell_type": "code",
   "execution_count": 23,
   "metadata": {},
   "outputs": [
    {
     "name": "stdout",
     "output_type": "stream",
     "text": [
      "Pandas  0.20.3\n",
      "(5590851, 2)\n"
     ]
    },
    {
     "data": {
      "text/html": [
       "<div>\n",
       "<style>\n",
       "    .dataframe thead tr:only-child th {\n",
       "        text-align: right;\n",
       "    }\n",
       "\n",
       "    .dataframe thead th {\n",
       "        text-align: left;\n",
       "    }\n",
       "\n",
       "    .dataframe tbody tr th {\n",
       "        vertical-align: top;\n",
       "    }\n",
       "</style>\n",
       "<table border=\"1\" class=\"dataframe\">\n",
       "  <thead>\n",
       "    <tr style=\"text-align: right;\">\n",
       "      <th></th>\n",
       "      <th>node_s</th>\n",
       "      <th>node_r</th>\n",
       "    </tr>\n",
       "  </thead>\n",
       "  <tbody>\n",
       "    <tr>\n",
       "      <th>0</th>\n",
       "      <td>af8f37b988efceb80660c92f4db3fff3</td>\n",
       "      <td>0956dff26787593cfcd5972a1d1f79d2</td>\n",
       "    </tr>\n",
       "    <tr>\n",
       "      <th>1</th>\n",
       "      <td>af8f37b988efceb80660c92f4db3fff3</td>\n",
       "      <td>941ea57ac148c307418cfc7eb3043bfd</td>\n",
       "    </tr>\n",
       "    <tr>\n",
       "      <th>2</th>\n",
       "      <td>af8f37b988efceb80660c92f4db3fff3</td>\n",
       "      <td>881a9f90cff7620cdae1b3f8b7c57a85</td>\n",
       "    </tr>\n",
       "    <tr>\n",
       "      <th>3</th>\n",
       "      <td>485ec58a917a4090085916886748d52e</td>\n",
       "      <td>bc93e2efdcc3313a7e1c416891371fd5</td>\n",
       "    </tr>\n",
       "    <tr>\n",
       "      <th>4</th>\n",
       "      <td>485ec58a917a4090085916886748d52e</td>\n",
       "      <td>482499bdf9641e0f1c90bd2b94334ca8</td>\n",
       "    </tr>\n",
       "  </tbody>\n",
       "</table>\n",
       "</div>"
      ],
      "text/plain": [
       "                             node_s                            node_r\n",
       "0  af8f37b988efceb80660c92f4db3fff3  0956dff26787593cfcd5972a1d1f79d2\n",
       "1  af8f37b988efceb80660c92f4db3fff3  941ea57ac148c307418cfc7eb3043bfd\n",
       "2  af8f37b988efceb80660c92f4db3fff3  881a9f90cff7620cdae1b3f8b7c57a85\n",
       "3  485ec58a917a4090085916886748d52e  bc93e2efdcc3313a7e1c416891371fd5\n",
       "4  485ec58a917a4090085916886748d52e  482499bdf9641e0f1c90bd2b94334ca8"
      ]
     },
     "execution_count": 23,
     "metadata": {},
     "output_type": "execute_result"
    }
   ],
   "source": [
    "import pandas as pd\n",
    "print('Pandas ',pd.__version__)\n",
    "relations = pd.read_csv('graph/partner.edgelist',sep=' ',header=0)\n",
    "print(relations.shape)\n",
    "relations.columns = ['node_s','node_r']\n",
    "relations.head()"
   ]
  },
  {
   "cell_type": "code",
   "execution_count": 24,
   "metadata": {},
   "outputs": [
    {
     "data": {
      "text/plain": [
       "(5564267, 2)"
      ]
     },
     "execution_count": 24,
     "metadata": {},
     "output_type": "execute_result"
    }
   ],
   "source": [
    "# Schleifen werden gelöscht und die Art der Beziehung wird im Folgenden vernachlässigt\n",
    "relations_ = relations[relations.node_s!=relations.node_r][['node_s','node_r']]\n",
    "relations_.shape"
   ]
  },
  {
   "cell_type": "code",
   "execution_count": 25,
   "metadata": {},
   "outputs": [
    {
     "data": {
      "text/plain": [
       "(5564268, 2)"
      ]
     },
     "execution_count": 25,
     "metadata": {},
     "output_type": "execute_result"
    }
   ],
   "source": [
    "relations_=relations_.append({'node_s': 'isolated','node_r': 'isolated'}, ignore_index=True)\n",
    "relations_.shape"
   ]
  },
  {
   "cell_type": "code",
   "execution_count": 26,
   "metadata": {},
   "outputs": [
    {
     "data": {
      "text/html": [
       "<div>\n",
       "<style>\n",
       "    .dataframe thead tr:only-child th {\n",
       "        text-align: right;\n",
       "    }\n",
       "\n",
       "    .dataframe thead th {\n",
       "        text-align: left;\n",
       "    }\n",
       "\n",
       "    .dataframe tbody tr th {\n",
       "        vertical-align: top;\n",
       "    }\n",
       "</style>\n",
       "<table border=\"1\" class=\"dataframe\">\n",
       "  <thead>\n",
       "    <tr style=\"text-align: right;\">\n",
       "      <th></th>\n",
       "      <th>node_s</th>\n",
       "      <th>node_r</th>\n",
       "    </tr>\n",
       "  </thead>\n",
       "  <tbody>\n",
       "    <tr>\n",
       "      <th>5564263</th>\n",
       "      <td>6f9cb16db913b3ff25daae500e54ebe9</td>\n",
       "      <td>6973f5e480045a3777cc292dbfef1f52</td>\n",
       "    </tr>\n",
       "    <tr>\n",
       "      <th>5564264</th>\n",
       "      <td>4788c93074e3b6fda0b28eac5542d336</td>\n",
       "      <td>de661d836c5b1eac742a91b659c341d3</td>\n",
       "    </tr>\n",
       "    <tr>\n",
       "      <th>5564265</th>\n",
       "      <td>4788c93074e3b6fda0b28eac5542d336</td>\n",
       "      <td>d899c9703cd994b2f4e7337f9bc804e4</td>\n",
       "    </tr>\n",
       "    <tr>\n",
       "      <th>5564266</th>\n",
       "      <td>4788c93074e3b6fda0b28eac5542d336</td>\n",
       "      <td>2c0934f1fc7cd68b8ab188f60e38a379</td>\n",
       "    </tr>\n",
       "    <tr>\n",
       "      <th>5564267</th>\n",
       "      <td>isolated</td>\n",
       "      <td>isolated</td>\n",
       "    </tr>\n",
       "  </tbody>\n",
       "</table>\n",
       "</div>"
      ],
      "text/plain": [
       "                                   node_s                            node_r\n",
       "5564263  6f9cb16db913b3ff25daae500e54ebe9  6973f5e480045a3777cc292dbfef1f52\n",
       "5564264  4788c93074e3b6fda0b28eac5542d336  de661d836c5b1eac742a91b659c341d3\n",
       "5564265  4788c93074e3b6fda0b28eac5542d336  d899c9703cd994b2f4e7337f9bc804e4\n",
       "5564266  4788c93074e3b6fda0b28eac5542d336  2c0934f1fc7cd68b8ab188f60e38a379\n",
       "5564267                          isolated                          isolated"
      ]
     },
     "execution_count": 26,
     "metadata": {},
     "output_type": "execute_result"
    }
   ],
   "source": [
    "relations_.tail()"
   ]
  },
  {
   "cell_type": "code",
   "execution_count": 97,
   "metadata": {},
   "outputs": [
    {
     "name": "stdout",
     "output_type": "stream",
     "text": [
      "Nodes:  3638088\n",
      "total: 200976\n",
      "labeled: 53525\n"
     ]
    }
   ],
   "source": [
    "#Hashing hat funktioniert\n",
    "nodes=set(relations['node_s']).union(set(relations['node_r']))\n",
    "print('Nodes: ', len(nodes))\n",
    "print('total:',len(nodes.intersection(set(feature_all['partner_nr']))))\n",
    "print('labeled:',len(nodes.intersection(set(target_wz.index))))"
   ]
  },
  {
   "cell_type": "code",
   "execution_count": 29,
   "metadata": {},
   "outputs": [],
   "source": [
    "#relations[['node_s','node_r']].to_csv('graph/partner.edgelist',sep=' ',index =False,header=False)\n",
    "partner_graph = nx.from_pandas_edgelist(relations_,'node_s','node_r')"
   ]
  },
  {
   "cell_type": "code",
   "execution_count": 30,
   "metadata": {},
   "outputs": [
    {
     "name": "stdout",
     "output_type": "stream",
     "text": [
      "Name: \n",
      "Type: Graph\n",
      "Number of nodes: 3625710\n",
      "Number of edges: 2754615\n",
      "Average degree:   1.5195\n"
     ]
    }
   ],
   "source": [
    "print(nx.info(partner_graph))"
   ]
  },
  {
   "cell_type": "code",
   "execution_count": 89,
   "metadata": {},
   "outputs": [],
   "source": [
    "partner_graph.name = 'Total'"
   ]
  },
  {
   "cell_type": "code",
   "execution_count": 78,
   "metadata": {},
   "outputs": [
    {
     "data": {
      "text/plain": [
       "networkx.classes.graph.Graph"
      ]
     },
     "execution_count": 78,
     "metadata": {},
     "output_type": "execute_result"
    }
   ],
   "source": [
    "type(partner_graph)"
   ]
  },
  {
   "cell_type": "code",
   "execution_count": null,
   "metadata": {
    "collapsed": true
   },
   "outputs": [],
   "source": [
    "degree_sequence = sorted([d for n, d in partner_graph.degree()], reverse=True) "
   ]
  },
  {
   "cell_type": "code",
   "execution_count": 77,
   "metadata": {},
   "outputs": [
    {
     "data": {
      "image/png": "[encoded data removed]",
      "text/plain": [
       "<matplotlib.figure.Figure at 0x2220fbdae48>"
      ]
     },
     "metadata": {},
     "output_type": "display_data"
    }
   ],
   "source": [
    "plt.figure(figsize=(15,10))\n",
    "plt.loglog(degree_sequence)\n",
    "plt.title('Degree Distribution')\n",
    "plt.ylabel('Degree')\n",
    "plt.xlabel('Count')\n",
    "plt.show()"
   ]
  },
  {
   "cell_type": "code",
   "execution_count": null,
   "metadata": {},
   "outputs": [
    {
     "name": "stdout",
     "output_type": "stream",
     "text": [
      "Process 1.1032321945219006e-06\n",
      "Process 2.482272437674276e-06\n",
      "Process 3.309696583565702e-06\n",
      "Process 3.861312680826652e-06\n",
      "Process 4.688736826718077e-06\n"
     ]
    }
   ],
   "source": [
    "nodes_total = set(partner_graph.nodes)\n",
    "sub_graphs_lables_more2_labled=[]\n",
    "labeld_data=set(target_wz['partner_nr'])\n",
    "with open('graph/analyse.txt','w') as f:\n",
    "    nodes_processed = 0\n",
    "    for C in nx.connected_component_subgraphs(partner_graph):\n",
    "        print(nx.info(C),file=f)\n",
    "        set_nodes = set(C.nodes)\n",
    "        set_labled = labeld_data.intersection(set_nodes)\n",
    "        ratio_labled=len(set_labled)/len(set_nodes)\n",
    "        print('Anteil Labled: ', ratio_labled ,file=f)\n",
    "        print('average_shortest_path_length',nx.average_shortest_path_length(C),file=f)\n",
    "        print('------------------',file=f)\n",
    "        if len(set_labled) > 2:\n",
    "            sub_graphs_lables_more2_labled.append(C)\n",
    "        nodes_processed+=len(set_nodes)\n",
    "        print('Process',nodes_processed/len(nodes_total))"
   ]
  },
  {
   "cell_type": "code",
   "execution_count": 63,
   "metadata": {},
   "outputs": [
    {
     "data": {
      "text/plain": [
       "dict"
      ]
     },
     "execution_count": 63,
     "metadata": {},
     "output_type": "execute_result"
    }
   ],
   "source": [
    "type(partner_graph.nodes['isolated'])"
   ]
  },
  {
   "cell_type": "code",
   "execution_count": 64,
   "metadata": {},
   "outputs": [
    {
     "name": "stderr",
     "output_type": "stream",
     "text": [
      "Computing transition probabilities: 100%|██████████| 3625710/3625710 [15:03<00:00, 4012.58it/s] \n",
      "0it [00:00, ?it/s]\n",
      "  0%|          | 0/10 [00:00<?, ?it/s]\n",
      "Generating walks (CPU: 1):   0%|          | 0/10 [00:00<?, ?it/s]\n",
      "Generating walks (CPU: 1):  20%|██        | 2/10 [10:59<43:58, 329.81s/it]\n",
      "Generating walks (CPU: 1):  30%|███       | 3/10 [26:15<58:59, 505.63s/it]\n",
      "Generating walks (CPU: 1):  40%|████      | 4/10 [45:17<1:09:39, 696.63s/it]\n",
      "Generating walks (CPU: 1):  50%|█████     | 5/10 [54:55<55:05, 661.00s/it]  \n",
      "Generating walks (CPU: 1):  60%|██████    | 6/10 [1:25:15<1:07:15, 1008.78s/it]\n",
      "Generating walks (CPU: 1):  70%|███████   | 7/10 [1:34:29<43:36, 872.16s/it]   \n",
      "Generating walks (CPU: 1):  80%|████████  | 8/10 [2:19:17<47:13, 1416.97s/it]\n",
      "Generating walks (CPU: 1):  90%|█████████ | 9/10 [2:29:16<19:31, 1171.56s/it]\n",
      "Generating walks (CPU: 1): 100%|██████████| 10/10 [2:38:24<00:00, 984.61s/it]\n",
      "1it [3:43:07, 13387.89s/it]\n"
     ]
    }
   ],
   "source": [
    "#Eine Ehr Lokale untersuchung\n",
    "node2vec = Node2Vec(partner_graph,walk_length=5,p=1.5,q=0.7,workers=1)\n",
    "modell_partner = node2vec.fit(window=5,workers=-1, iter=8)"
   ]
  },
  {
   "cell_type": "code",
   "execution_count": 99,
   "metadata": {},
   "outputs": [
    {
     "ename": "NameError",
     "evalue": "name 'modell_partner' is not defined",
     "output_type": "error",
     "traceback": [
      "\u001b[1;31m---------------------------------------------------------------------------\u001b[0m",
      "\u001b[1;31mNameError\u001b[0m                                 Traceback (most recent call last)",
      "\u001b[1;32m<ipython-input-99-e84d42557803>\u001b[0m in \u001b[0;36m<module>\u001b[1;34m()\u001b[0m\n\u001b[1;32m----> 1\u001b[1;33m \u001b[0mwv_partner\u001b[0m\u001b[1;33m=\u001b[0m\u001b[0mmodell_partner\u001b[0m\u001b[1;33m.\u001b[0m\u001b[0mwv\u001b[0m\u001b[1;33m\u001b[0m\u001b[0m\n\u001b[0m",
      "\u001b[1;31mNameError\u001b[0m: name 'modell_partner' is not defined"
     ]
    }
   ],
   "source": [
    "wv_partner=modell_partner.wv"
   ]
  },
  {
   "cell_type": "code",
   "execution_count": 100,
   "metadata": {
    "collapsed": true
   },
   "outputs": [],
   "source": [
    "wv_partner=KeyedVectors.load('emb/partner_emb.p')"
   ]
  },
  {
   "cell_type": "code",
   "execution_count": 67,
   "metadata": {
    "collapsed": true
   },
   "outputs": [],
   "source": [
    "wv_partner.save('emb/partner_emb.p')"
   ]
  },
  {
   "cell_type": "code",
   "execution_count": 105,
   "metadata": {
    "collapsed": true
   },
   "outputs": [],
   "source": [
    "vector_dict={}\n",
    "for word in target_wz.index:\n",
    "    try:\n",
    "        vector_dict[word] = wv_partner.get_vector(word)\n",
    "    except KeyError:\n",
    "         vector_dict[word] = wv_partner.get_vector('isolated')\n",
    "#ectors = list(vector_dict.values())"
   ]
  },
  {
   "cell_type": "code",
   "execution_count": 106,
   "metadata": {
    "collapsed": true
   },
   "outputs": [],
   "source": [
    "partner_vec = pd.DataFrame.from_dict(vector_dict, orient='index')"
   ]
  },
  {
   "cell_type": "code",
   "execution_count": 116,
   "metadata": {},
   "outputs": [
    {
     "data": {
      "text/html": [
       "<div>\n",
       "<style scoped>\n",
       "    .dataframe tbody tr th:only-of-type {\n",
       "        vertical-align: middle;\n",
       "    }\n",
       "\n",
       "    .dataframe tbody tr th {\n",
       "        vertical-align: top;\n",
       "    }\n",
       "\n",
       "    .dataframe thead th {\n",
       "        text-align: right;\n",
       "    }\n",
       "</style>\n",
       "<table border=\"1\" class=\"dataframe\">\n",
       "  <thead>\n",
       "    <tr style=\"text-align: right;\">\n",
       "      <th></th>\n",
       "      <th>0</th>\n",
       "      <th>1</th>\n",
       "      <th>2</th>\n",
       "      <th>3</th>\n",
       "      <th>4</th>\n",
       "      <th>5</th>\n",
       "      <th>6</th>\n",
       "      <th>7</th>\n",
       "      <th>8</th>\n",
       "      <th>9</th>\n",
       "      <th>...</th>\n",
       "      <th>118</th>\n",
       "      <th>119</th>\n",
       "      <th>120</th>\n",
       "      <th>121</th>\n",
       "      <th>122</th>\n",
       "      <th>123</th>\n",
       "      <th>124</th>\n",
       "      <th>125</th>\n",
       "      <th>126</th>\n",
       "      <th>127</th>\n",
       "    </tr>\n",
       "  </thead>\n",
       "  <tbody>\n",
       "    <tr>\n",
       "      <th>4290392ffe7d0f59a20e5a2645b2ae1c</th>\n",
       "      <td>-0.003848</td>\n",
       "      <td>0.00334</td>\n",
       "      <td>0.000644</td>\n",
       "      <td>-0.000783</td>\n",
       "      <td>-0.000644</td>\n",
       "      <td>0.001681</td>\n",
       "      <td>0.000627</td>\n",
       "      <td>-0.002889</td>\n",
       "      <td>-0.002321</td>\n",
       "      <td>-0.000860</td>\n",
       "      <td>...</td>\n",
       "      <td>0.003496</td>\n",
       "      <td>0.003274</td>\n",
       "      <td>0.003444</td>\n",
       "      <td>0.001635</td>\n",
       "      <td>0.000486</td>\n",
       "      <td>-0.001606</td>\n",
       "      <td>0.001443</td>\n",
       "      <td>0.001428</td>\n",
       "      <td>0.003176</td>\n",
       "      <td>-0.002278</td>\n",
       "    </tr>\n",
       "    <tr>\n",
       "      <th>ca525070f389020b42436b4ef5f51722</th>\n",
       "      <td>-0.000468</td>\n",
       "      <td>-0.00127</td>\n",
       "      <td>-0.003217</td>\n",
       "      <td>-0.002587</td>\n",
       "      <td>-0.002832</td>\n",
       "      <td>-0.003815</td>\n",
       "      <td>0.003410</td>\n",
       "      <td>-0.000214</td>\n",
       "      <td>-0.001071</td>\n",
       "      <td>0.003309</td>\n",
       "      <td>...</td>\n",
       "      <td>0.000864</td>\n",
       "      <td>0.001652</td>\n",
       "      <td>0.003830</td>\n",
       "      <td>-0.001691</td>\n",
       "      <td>0.000107</td>\n",
       "      <td>-0.001818</td>\n",
       "      <td>0.003320</td>\n",
       "      <td>-0.000968</td>\n",
       "      <td>0.000936</td>\n",
       "      <td>-0.001852</td>\n",
       "    </tr>\n",
       "    <tr>\n",
       "      <th>1aa0928cb4f6ef9f1dc2c55b45c7815f</th>\n",
       "      <td>-0.000468</td>\n",
       "      <td>-0.00127</td>\n",
       "      <td>-0.003217</td>\n",
       "      <td>-0.002587</td>\n",
       "      <td>-0.002832</td>\n",
       "      <td>-0.003815</td>\n",
       "      <td>0.003410</td>\n",
       "      <td>-0.000214</td>\n",
       "      <td>-0.001071</td>\n",
       "      <td>0.003309</td>\n",
       "      <td>...</td>\n",
       "      <td>0.000864</td>\n",
       "      <td>0.001652</td>\n",
       "      <td>0.003830</td>\n",
       "      <td>-0.001691</td>\n",
       "      <td>0.000107</td>\n",
       "      <td>-0.001818</td>\n",
       "      <td>0.003320</td>\n",
       "      <td>-0.000968</td>\n",
       "      <td>0.000936</td>\n",
       "      <td>-0.001852</td>\n",
       "    </tr>\n",
       "  </tbody>\n",
       "</table>\n",
       "<p>3 rows × 128 columns</p>\n",
       "</div>"
      ],
      "text/plain": [
       "                                       0        1         2         3    \\\n",
       "4290392ffe7d0f59a20e5a2645b2ae1c -0.003848  0.00334  0.000644 -0.000783   \n",
       "ca525070f389020b42436b4ef5f51722 -0.000468 -0.00127 -0.003217 -0.002587   \n",
       "1aa0928cb4f6ef9f1dc2c55b45c7815f -0.000468 -0.00127 -0.003217 -0.002587   \n",
       "\n",
       "                                       4         5         6         7    \\\n",
       "4290392ffe7d0f59a20e5a2645b2ae1c -0.000644  0.001681  0.000627 -0.002889   \n",
       "ca525070f389020b42436b4ef5f51722 -0.002832 -0.003815  0.003410 -0.000214   \n",
       "1aa0928cb4f6ef9f1dc2c55b45c7815f -0.002832 -0.003815  0.003410 -0.000214   \n",
       "\n",
       "                                       8         9      ...          118  \\\n",
       "4290392ffe7d0f59a20e5a2645b2ae1c -0.002321 -0.000860    ...     0.003496   \n",
       "ca525070f389020b42436b4ef5f51722 -0.001071  0.003309    ...     0.000864   \n",
       "1aa0928cb4f6ef9f1dc2c55b45c7815f -0.001071  0.003309    ...     0.000864   \n",
       "\n",
       "                                       119       120       121       122  \\\n",
       "4290392ffe7d0f59a20e5a2645b2ae1c  0.003274  0.003444  0.001635  0.000486   \n",
       "ca525070f389020b42436b4ef5f51722  0.001652  0.003830 -0.001691  0.000107   \n",
       "1aa0928cb4f6ef9f1dc2c55b45c7815f  0.001652  0.003830 -0.001691  0.000107   \n",
       "\n",
       "                                       123       124       125       126  \\\n",
       "4290392ffe7d0f59a20e5a2645b2ae1c -0.001606  0.001443  0.001428  0.003176   \n",
       "ca525070f389020b42436b4ef5f51722 -0.001818  0.003320 -0.000968  0.000936   \n",
       "1aa0928cb4f6ef9f1dc2c55b45c7815f -0.001818  0.003320 -0.000968  0.000936   \n",
       "\n",
       "                                       127  \n",
       "4290392ffe7d0f59a20e5a2645b2ae1c -0.002278  \n",
       "ca525070f389020b42436b4ef5f51722 -0.001852  \n",
       "1aa0928cb4f6ef9f1dc2c55b45c7815f -0.001852  \n",
       "\n",
       "[3 rows x 128 columns]"
      ]
     },
     "execution_count": 116,
     "metadata": {},
     "output_type": "execute_result"
    }
   ],
   "source": [
    "partner_vec.head(3)"
   ]
  },
  {
   "cell_type": "code",
   "execution_count": 108,
   "metadata": {
    "collapsed": true
   },
   "outputs": [],
   "source": [
    "feature_vec = pd.merge(left = target,right= partner_vec,how='left' ,left_on='partner_nr',right_index=True)\n",
    "print(feature_vec.shape)\n",
    "feature_vec.head()"
   ]
  },
  {
   "cell_type": "code",
   "execution_count": 112,
   "metadata": {
    "collapsed": true
   },
   "outputs": [],
   "source": [
    "partner_vec_sparse = csr_matrix(feature_vec[list(range(128))].values)"
   ]
  },
  {
   "cell_type": "code",
   "execution_count": 114,
   "metadata": {},
   "outputs": [
    {
     "data": {
      "text/plain": [
       "<95620x4006 sparse matrix of type '<class 'numpy.float64'>'\n",
       "\twith 12607431 stored elements in COOrdinate format>"
      ]
     },
     "execution_count": 114,
     "metadata": {},
     "output_type": "execute_result"
    }
   ],
   "source": [
    "feature_oneHot_withemb=hstack([partner_vec_sparse,features_OneHot])\n",
    "feature_oneHot_withemb"
   ]
  },
  {
   "cell_type": "code",
   "execution_count": 115,
   "metadata": {
    "collapsed": true
   },
   "outputs": [],
   "source": [
    "save_npz('data/DataPartnerEmbed/feature_oneHot_withemb.npz',feature_oneHot_withemb)"
   ]
  },
  {
   "cell_type": "code",
   "execution_count": null,
   "metadata": {
    "collapsed": true
   },
   "outputs": [],
   "source": []
  }
 ],
 "metadata": {
  "kernelspec": {
   "display_name": "Python 3",
   "language": "python",
   "name": "python3"
  },
  "language_info": {
   "codemirror_mode": {
    "name": "ipython",
    "version": 3
   },
   "file_extension": ".py",
   "mimetype": "text/x-python",
   "name": "python",
   "nbconvert_exporter": "python",
   "pygments_lexer": "ipython3",
   "version": "3.6.3"
  }
 },
 "nbformat": 4,
 "nbformat_minor": 2
}
